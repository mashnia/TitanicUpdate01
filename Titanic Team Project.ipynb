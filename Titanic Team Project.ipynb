{
 "cells": [
  {
   "cell_type": "markdown",
   "metadata": {},
   "source": [
    "## Import needed libraries"
   ]
  },
  {
   "cell_type": "code",
   "execution_count": 1,
   "metadata": {},
   "outputs": [],
   "source": [
    "import pandas as pd\n",
    "import numpy as np\n",
    "import seaborn as sns\n",
    "import matplotlib.pyplot as plt\n",
    "%matplotlib inline"
   ]
  },
  {
   "cell_type": "markdown",
   "metadata": {},
   "source": [
    "## Read .csv files into variables"
   ]
  },
  {
   "cell_type": "code",

   "metadata": {},
   "outputs": [],
   "source": [
    "train_data = pd.read_csv('train.csv')\n",
    "test_data = pd.read_csv('test.csv')"
   ]
  },
  {
   "cell_type": "markdown",
   "metadata": {},
   "source": [
    "## Description of datasets"
   ]
  },
  {
   "cell_type": "code",

   "metadata": {},
   "outputs": [
    {
     "name": "stdout",
     "output_type": "stream",
     "text": [
      "Training data description----------------------------------------\n",
      "       PassengerId    Survived      Pclass         Age       SibSp  \\\n",
      "count   891.000000  891.000000  891.000000  714.000000  891.000000   \n",
      "mean    446.000000    0.383838    2.308642   29.699118    0.523008   \n",
      "std     257.353842    0.486592    0.836071   14.526497    1.102743   \n",
      "min       1.000000    0.000000    1.000000    0.420000    0.000000   \n",
      "25%     223.500000    0.000000    2.000000   20.125000    0.000000   \n",
      "50%     446.000000    0.000000    3.000000   28.000000    0.000000   \n",
      "75%     668.500000    1.000000    3.000000   38.000000    1.000000   \n",
      "max     891.000000    1.000000    3.000000   80.000000    8.000000   \n",
      "\n",
      "            Parch        Fare  \n",
      "count  891.000000  891.000000  \n",
      "mean     0.381594   32.204208  \n",
      "std      0.806057   49.693429  \n",
      "min      0.000000    0.000000  \n",
      "25%      0.000000    7.910400  \n",
      "50%      0.000000   14.454200  \n",
      "75%      0.000000   31.000000  \n",
      "max      6.000000  512.329200  \n",
      "\n",
      "Testing data description----------------------------------------\n",
      "       PassengerId      Pclass         Age       SibSp       Parch        Fare\n",
      "count   418.000000  418.000000  332.000000  418.000000  418.000000  417.000000\n",
      "mean   1100.500000    2.265550   30.272590    0.447368    0.392344   35.627188\n",
      "std     120.810458    0.841838   14.181209    0.896760    0.981429   55.907576\n",
      "min     892.000000    1.000000    0.170000    0.000000    0.000000    0.000000\n",
      "25%     996.250000    1.000000   21.000000    0.000000    0.000000    7.895800\n",
      "50%    1100.500000    3.000000   27.000000    0.000000    0.000000   14.454200\n",
      "75%    1204.750000    3.000000   39.000000    1.000000    0.000000   31.500000\n",
      "max    1309.000000    3.000000   76.000000    8.000000    9.000000  512.329200\n"
     ]
    }
   ],
   "source": [
    "print('Training data description----------------------------------------')\n",
    "print(train_data.describe())\n",
    "print('\\nTesting data description----------------------------------------')\n",
    "print(test_data.describe())"
   ]
  },
  {
   "cell_type": "markdown",
   "metadata": {},
   "source": [
    "## Datasets information"
   ]
  },
  {
   "cell_type": "code",

   "metadata": {},
   "outputs": [
    {
     "name": "stdout",
     "output_type": "stream",
     "text": [
      "Training data information----------------------------------------\n",
      "<class 'pandas.core.frame.DataFrame'>\n",
      "RangeIndex: 891 entries, 0 to 890\n",
      "Data columns (total 12 columns):\n",
      " #   Column       Non-Null Count  Dtype  \n",
      "---  ------       --------------  -----  \n",
      " 0   PassengerId  891 non-null    int64  \n",
      " 1   Survived     891 non-null    int64  \n",
      " 2   Pclass       891 non-null    int64  \n",
      " 3   Name         891 non-null    object \n",
      " 4   Sex          891 non-null    object \n",
      " 5   Age          714 non-null    float64\n",
      " 6   SibSp        891 non-null    int64  \n",
      " 7   Parch        891 non-null    int64  \n",
      " 8   Ticket       891 non-null    object \n",
      " 9   Fare         891 non-null    float64\n",
      " 10  Cabin        204 non-null    object \n",
      " 11  Embarked     889 non-null    object \n",
      "dtypes: float64(2), int64(5), object(5)\n",
      "memory usage: 83.7+ KB\n",
      "None\n",
      "\n",
      "Testing data information----------------------------------------\n",
      "<class 'pandas.core.frame.DataFrame'>\n",
      "RangeIndex: 418 entries, 0 to 417\n",
      "Data columns (total 11 columns):\n",
      " #   Column       Non-Null Count  Dtype  \n",
      "---  ------       --------------  -----  \n",
      " 0   PassengerId  418 non-null    int64  \n",
      " 1   Pclass       418 non-null    int64  \n",
      " 2   Name         418 non-null    object \n",
      " 3   Sex          418 non-null    object \n",
      " 4   Age          332 non-null    float64\n",
      " 5   SibSp        418 non-null    int64  \n",
      " 6   Parch        418 non-null    int64  \n",
      " 7   Ticket       418 non-null    object \n",
      " 8   Fare         417 non-null    float64\n",
      " 9   Cabin        91 non-null     object \n",
      " 10  Embarked     418 non-null    object \n",
      "dtypes: float64(2), int64(4), object(5)\n",
      "memory usage: 36.0+ KB\n",
      "None\n"
     ]
    }
   ],
   "source": [
    "print('Training data information----------------------------------------')\n",
    "print(train_data.info())\n",
    "print('\\nTesting data information----------------------------------------')\n",
    "print(test_data.info())"
   ]
  },
  {
   "cell_type": "markdown",
   "metadata": {},
   "source": [
    "## Check for Missing Data"
   ]
  },
  {
   "cell_type": "code",

   "metadata": {},
   "outputs": [
    {
     "name": "stdout",
     "output_type": "stream",
     "text": [
      "Training Data----------------------------------\n",
      "PassengerId      0\n",
      "Survived         0\n",
      "Pclass           0\n",
      "Name             0\n",
      "Sex              0\n",
      "Age            177\n",
      "SibSp            0\n",
      "Parch            0\n",
      "Ticket           0\n",
      "Fare             0\n",
      "Cabin          687\n",
      "Embarked         2\n",
      "dtype: int64\n",
      "\n",
      "Testing Data----------------------------------\n",
      "PassengerId      0\n",
      "Pclass           0\n",
      "Name             0\n",
      "Sex              0\n",
      "Age             86\n",
      "SibSp            0\n",
      "Parch            0\n",
      "Ticket           0\n",
      "Fare             1\n",
      "Cabin          327\n",
      "Embarked         0\n",
      "dtype: int64\n"
     ]
    }
   ],
   "source": [
    "print(\"Training Data----------------------------------\")\n",
    "print(train_data.isnull().sum())\n",
    "print(\"\\nTesting Data----------------------------------\")\n",
    "print(test_data.isnull().sum())"
   ]
  },
  {
   "cell_type": "markdown",
   "metadata": {},
   "source": [
    "## Combine Datasets"
   ]
  },
  {
   "cell_type": "code",

   "metadata": {},
   "outputs": [],
   "source": [
    "titanic_all = pd.concat([train_data, test_data], sort=True).reset_index(drop=True)"
   ]
  },
  {
   "cell_type": "code",

   "metadata": {},
   "outputs": [
    {
     "data": {
      "text/html": [
       "<div>\n",
       "<style scoped>\n",
       "    .dataframe tbody tr th:only-of-type {\n",
       "        vertical-align: middle;\n",
       "    }\n",
       "\n",
       "    .dataframe tbody tr th {\n",
       "        vertical-align: top;\n",
       "    }\n",
       "\n",
       "    .dataframe thead th {\n",
       "        text-align: right;\n",
       "    }\n",
       "</style>\n",
       "<table border=\"1\" class=\"dataframe\">\n",
       "  <thead>\n",
       "    <tr style=\"text-align: right;\">\n",
       "      <th></th>\n",
       "      <th>Age</th>\n",
       "      <th>Cabin</th>\n",
       "      <th>Embarked</th>\n",
       "      <th>Fare</th>\n",
       "      <th>Name</th>\n",
       "      <th>Parch</th>\n",
       "      <th>PassengerId</th>\n",
       "      <th>Pclass</th>\n",
       "      <th>Sex</th>\n",
       "      <th>SibSp</th>\n",
       "      <th>Survived</th>\n",
       "      <th>Ticket</th>\n",
       "    </tr>\n",
       "  </thead>\n",
       "  <tbody>\n",
       "    <tr>\n",
       "      <th>0</th>\n",
       "      <td>22.0</td>\n",
       "      <td>NaN</td>\n",
       "      <td>S</td>\n",
       "      <td>7.2500</td>\n",
       "      <td>Braund, Mr. Owen Harris</td>\n",
       "      <td>0</td>\n",
       "      <td>1</td>\n",
       "      <td>3</td>\n",
       "      <td>male</td>\n",
       "      <td>1</td>\n",
       "      <td>0.0</td>\n",
       "      <td>A/5 21171</td>\n",
       "    </tr>\n",
       "    <tr>\n",
       "      <th>1</th>\n",
       "      <td>38.0</td>\n",
       "      <td>C85</td>\n",
       "      <td>C</td>\n",
       "      <td>71.2833</td>\n",
       "      <td>Cumings, Mrs. John Bradley (Florence Briggs Th...</td>\n",
       "      <td>0</td>\n",
       "      <td>2</td>\n",
       "      <td>1</td>\n",
       "      <td>female</td>\n",
       "      <td>1</td>\n",
       "      <td>1.0</td>\n",
       "      <td>PC 17599</td>\n",
       "    </tr>\n",
       "    <tr>\n",
       "      <th>2</th>\n",
       "      <td>26.0</td>\n",
       "      <td>NaN</td>\n",
       "      <td>S</td>\n",
       "      <td>7.9250</td>\n",
       "      <td>Heikkinen, Miss. Laina</td>\n",
       "      <td>0</td>\n",
       "      <td>3</td>\n",
       "      <td>3</td>\n",
       "      <td>female</td>\n",
       "      <td>0</td>\n",
       "      <td>1.0</td>\n",
       "      <td>STON/O2. 3101282</td>\n",
       "    </tr>\n",
       "    <tr>\n",
       "      <th>3</th>\n",
       "      <td>35.0</td>\n",
       "      <td>C123</td>\n",
       "      <td>S</td>\n",
       "      <td>53.1000</td>\n",
       "      <td>Futrelle, Mrs. Jacques Heath (Lily May Peel)</td>\n",
       "      <td>0</td>\n",
       "      <td>4</td>\n",
       "      <td>1</td>\n",
       "      <td>female</td>\n",
       "      <td>1</td>\n",
       "      <td>1.0</td>\n",
       "      <td>113803</td>\n",
       "    </tr>\n",
       "    <tr>\n",
       "      <th>4</th>\n",
       "      <td>35.0</td>\n",
       "      <td>NaN</td>\n",
       "      <td>S</td>\n",
       "      <td>8.0500</td>\n",
       "      <td>Allen, Mr. William Henry</td>\n",
       "      <td>0</td>\n",
       "      <td>5</td>\n",
       "      <td>3</td>\n",
       "      <td>male</td>\n",
       "      <td>0</td>\n",
       "      <td>0.0</td>\n",
       "      <td>373450</td>\n",
       "    </tr>\n",
       "  </tbody>\n",
       "</table>\n",
       "</div>"
      ],
      "text/plain": [
       "    Age Cabin Embarked     Fare  \\\n",
       "0  22.0   NaN        S   7.2500   \n",
       "1  38.0   C85        C  71.2833   \n",
       "2  26.0   NaN        S   7.9250   \n",
       "3  35.0  C123        S  53.1000   \n",
       "4  35.0   NaN        S   8.0500   \n",
       "\n",
       "                                                Name  Parch  PassengerId  \\\n",
       "0                            Braund, Mr. Owen Harris      0            1   \n",
       "1  Cumings, Mrs. John Bradley (Florence Briggs Th...      0            2   \n",
       "2                             Heikkinen, Miss. Laina      0            3   \n",
       "3       Futrelle, Mrs. Jacques Heath (Lily May Peel)      0            4   \n",
       "4                           Allen, Mr. William Henry      0            5   \n",
       "\n",
       "   Pclass     Sex  SibSp  Survived            Ticket  \n",
       "0       3    male      1       0.0         A/5 21171  \n",
       "1       1  female      1       1.0          PC 17599  \n",
       "2       3  female      0       1.0  STON/O2. 3101282  \n",
       "3       1  female      1       1.0            113803  \n",
       "4       3    male      0       0.0            373450  "
      ]
     },

     "metadata": {},
     "output_type": "execute_result"
    }
   ],
   "source": [
    "titanic_all.head()"
   ]
  },
  {

   "cell_type": "markdown",
   "metadata": {},
   "source": [
    "## Data Cleansing"
   ]
  },
  {
   "cell_type": "markdown",
   "metadata": {},
   "source": [
    "## how many missing ages total?"
   ]
  },
  {
   "cell_type": "code",
   "execution_count": 9,
   "metadata": {
    "scrolled": true
   },

   "outputs": [
    {
     "name": "stdout",
     "output_type": "stream",
     "text": [
      "<class 'pandas.core.frame.DataFrame'>\n",
      "RangeIndex: 1309 entries, 0 to 1308\n",
      "Data columns (total 12 columns):\n",
      " #   Column       Non-Null Count  Dtype  \n",
      "---  ------       --------------  -----  \n",
      " 0   Age          1046 non-null   float64\n",
      " 1   Cabin        295 non-null    object \n",
      " 2   Embarked     1307 non-null   object \n",
      " 3   Fare         1308 non-null   float64\n",
      " 4   Name         1309 non-null   object \n",
      " 5   Parch        1309 non-null   int64  \n",
      " 6   PassengerId  1309 non-null   int64  \n",
      " 7   Pclass       1309 non-null   int64  \n",
      " 8   Sex          1309 non-null   object \n",
      " 9   SibSp        1309 non-null   int64  \n",
      " 10  Survived     891 non-null    float64\n",
      " 11  Ticket       1309 non-null   object \n",
      "dtypes: float64(3), int64(4), object(5)\n",
      "memory usage: 122.8+ KB\n"
     ]
    }
   ],
   "source": [

    "titanic_all.info()"
=======
    "print(f'Total ages missing for entire dataset: {titanic_all[\"Age\"].isnull().sum()}')\n",
    "#{round(titanic_all[\"Age\"].isnull().sum()/len(titanic_all)*100,0)}\n",
    "print(f'Percent of ages missing for entire dataset: {round(titanic_all[\"Age\"].isnull().sum()/len(titanic_all)*100,0)}'+ '%')"
   ]
  },
  {
   "cell_type": "markdown",
   "metadata": {},
   "source": [
    "## Overall Age distributions"

   ]
  },
  {
   "cell_type": "code",

   "metadata": {},
   "outputs": [
    {
     "data": {
      "text/plain": [

       "Age             263\n",
       "Cabin          1014\n",
       "Embarked          2\n",
       "Fare              1\n",
       "Name              0\n",
       "Parch             0\n",
       "PassengerId       0\n",
       "Pclass            0\n",
       "Sex               0\n",
       "SibSp             0\n",
       "Survived        418\n",
       "Ticket            0\n",
       "dtype: int64"
      ]
     },
     "execution_count": 9,
     "metadata": {},
     "output_type": "execute_result"
    }
   ],
   "source": [
    "titanic_all.isnull().sum()"
=======
       "Text(0.5, 1.0, 'Overall Age Distribution')"
      ]
     },
     "execution_count": 34,
     "metadata": {},
     "output_type": "execute_result"
    },
    {
     "data": {
      "image/png": "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\n",
      "text/plain": [
       "<Figure size 432x288 with 1 Axes>"
      ]
     },
     "metadata": {
      "needs_background": "light"
     },
     "output_type": "display_data"
    }
   ],
   "source": [
    "plt.hist(titanic_all[\"Age\"], edgecolor='black')\n",
    "\n",
    "plt.grid(axis='y', linestyle = '--')\n",
    "\n",
    "plt.xlabel('Age')\n",
    "plt.ylabel('Number of Passengers')\n",
    "plt.title('Overall Age Distribution')"

   ]
  },
  {
   "cell_type": "markdown",

   "metadata": {},
   "source": [
    "## Data Cleansing"
   ]
  },
  {
   "cell_type": "markdown",
=======
   "metadata": {},
   "source": [
    "## Age Distribution per class"
   ]
  },
  {
   "cell_type": "code",
   "execution_count": 66,
   "metadata": {},
   "outputs": [],
   "source": [
    "class_1 = titanic_all[titanic_all['Pclass'] == 1]\n",
    "class_2 = titanic_all[titanic_all['Pclass'] == 2]\n",
    "class_3 = titanic_all[titanic_all['Pclass'] == 3]\n",
    "\n",
    "plt.rc('axes', titlesize=14) #fontsize of the titles\n",
    "plt.rc('axes', labelsize=12) #fontsize of the x and y labels"
   ]
  },
  {
   "cell_type": "code",
   "execution_count": 67,
   "metadata": {},
   "outputs": [
    {
     "data": {
      "text/plain": [
       "Text(0.5, 1.0, 'First Class')"
      ]
     },
     "execution_count": 67,
     "metadata": {},
     "output_type": "execute_result"
    },
    {
     "data": {
      "image/png": "iVBORw0KGgoAAAANSUhEUgAAAYEAAAEaCAYAAAD3+OukAAAAOXRFWHRTb2Z0d2FyZQBNYXRwbG90bGliIHZlcnNpb24zLjMuMiwgaHR0cHM6Ly9tYXRwbG90bGliLm9yZy8vihELAAAACXBIWXMAAAsTAAALEwEAmpwYAAAoz0lEQVR4nO3de3xdZZ3v8c8vuyUtTUKTQJpb26T2om0xNZMhRDKtFJup0hEc0NERrXNQRsfrGc5BUKeO6MxLZ9DX6MiZ8YZyRnS8VITpHJEO0HaCMRoikbbYC03aJiQNpiltoQ3Nzu/8sVYgBtqshOxLsr/v12u/sp+19nqe387K3r+sZz3rWebuiIhIZspKdQAiIpI6SgIiIhlMSUBEJIMpCYiIZDAlARGRDKYkICKSwZQEZFozs2+b2ZZUxzGSmW0zs6+kOg4RUBKQaSD8oveXeKwCPgJcNwn1R0okZpZrZp8xs91mdsrMjoRf+m83M33eJO3MSHUAIpPkv4B3jlr2O3cfPNdGZnaeuz83GQGY2VygEcgHPgn8EngOqAf+BmgCOiajLZHJov9MZLoYcPeeUY/B0f/Fh/+V/4uZ3WZmTwEPh8v/0sz2mtlpM3vKzH5mZjPM7G+BjcCVI44wXneWGP4eqARq3f1b7r7L3fe5+7eAaqDnpTYys+vM7FdmdsLMes3sh2ZWNmL9TDP7spk9aWYDZnbYzD43Yv2fmtlvwiOPo2a23czmvazfpmQMHQlIJroO+BrwR4CZWQ1wO8GXfSMwF1gbvvY24FVAAS8caRwdXWHY1fM24C537xy93t1PnyOe84BPAb8FLgQ+D3wPWB2u/zDw5rD+DqAcWBa2Wwz8O3ALsBnIAS4957sXGUFJQKaL9WZ2ckT5v939DWd5bbu73zhcMLM/BZ4B7nX3E8BBoC1cfdLMThEeaZyj/QsJuoEeH2/g7n7HiOIBM3s/8LiZlYcJZSGwN3xPDhwCfh6+vhSYCfzI3Q+Gy3aONwbJXOoOkuliB7BqxOM953jtI6PKWwm++NvN7C4z22hmueNs38b5+hc2NKs2s3vM7KCZnQBawlULwp/fJnhPe83sdjO7csRJ5jaC8yE7zWyzmb3fzC6aaCySeZQEZLp41t33j3h0neO1z4wshP/9VwNvJfgv+xbgt2ZWOo72nwL6CbqOIjOzOcDPgGcJupv+EFgfrj4vjK8VqAA+TvCZvRPYamZZ7h4HGsLHb4DrgX1mVjWeOCRzKQmIAO4+6O4PuvstwKuBOcCGcPVzQGyM7YeA7wPvMLPy0evNbJaZzXqJTV9J0JX0cXff4e6/BYpeov4T7v5Dd38/cCXBOYvF4Tp39yZ3/zRBEnkS+LNIb1wyns4JSMYzsw3AKwi6lI4ClwO5vNC/3wG8wcyWAX3A0+5+5iWq+jjwOqDZzIaHiA4AdcDNBF/eHaO2ORS+5oNmdjvBkcRnRsX310A38ChwBvhz4DjQaWaXAq8nOJo4ArwGmA/sHu/vQTKTkoAIHAOuBjYB5wNPAO9x9/8O13+d4Mu9hWD0zeXAttGVuHt/+KV8E/Axgi6c4wRfyJ8h+MIfvc1TZraRYHjpBwi6dP4auG/Ey04A/xtYAjjwa+AN7v6smT0NXAZ8iGBU02HgM+7+nfH/GiQTme4sJiKSuXROQEQkgykJiIhkMCUBEZEMpiQgIpLBptzooAsvvNArKipSHYaIyJTyyCOP/M7dX3Q1+ZRLAhUVFbS0tIz9QhEReZ6ZHXyp5eoOEhHJYEoCIiIZTElARCSDKQmIiGQwJQERkQymJCAiksGUBEREMpiSgIhIBlMSEBHJYEoCMu2Uli/AzJL+KC1fMHZwImlmyk0bITKW7q7DNNy6Jent3r9pw9gvEkkzOhIQEclgSgIiIhlMSUBEJIMpCYiIZDAlARGRDKYkICKSwZQEREQymJKAiEgGUxIQEclgSgIiIhlMSUBEJIMpCYiIZDAlARGRDKYkICKSwZQEREQymJKAiEgGUxIQEclgSbuzmJl1ACeAODDo7jVmVgB8H6gAOoC3unt/smISEcl0yT4SuNzdV7l7TVi+GXjA3ZcAD4RlERFJklR3B10F3Bk+vxO4OnWhiIhkHnP35DRk1g70Aw581d2/ZmbH3H3uiNf0u3v+S2x7A3ADQGlp6R/cddddACxatIjc3Fza2toAKCwsZMWKFezYsQOAGTNmUF9fT2trK8ePHwegpqaGI0eOcPjwYQCWLFlCdnY2O3fuBKCoqIilS5fS2NgIQHZ2NnV1dbS0tHDy5EkAamtr6ezspKurC4Bly5YRi8XYvXs3AMXFxVRWVtLU1ATA7Nmzqa2tpbm5mVOnTgFQV1dHe3s7PT09ACxfvpx4PM6ePXsAKCsro7y8nObmZgBycnKoqamhqamJgYEBAOrr69m7dy+9vb0ArFy5koGBAfbt2wfA/PnzmTdvHi0tLQDk5eVRXV1NY2Mjg4ODAKxevZpdu3bR19cHQFVVFSdOnODAgQMAVFRUUFBQQGtrKwD5+flUVVWxfft23B0zY82aNbS1tdHfH/TkVVdXc/ToUTo6OlKyn7Zv305e6WLuOxhj8Vxn8QVDALT0ZhEfgtrioNxxPIudfcaGyjgAJ88Y9x2MsX5hnJyZwediS3uMlYVORV6wTXNPFrEsqCkKyvufzmL/MWP9wjjHn3yC7u4n+cIXvsCmTZvIy8sD4JOf/CTXXnstq1atAuCOO+4gPz+fN7/5zQA89NBDtLa2cuONNwJw6NAhvvzlL/PZz36WWbNmAXDTTTfx7ne/m+XLlwPw1a9+lfLycq688sogrl/+im98/WtTaj/p85Tc/ZSbm/vIiF6Y5yUzCZS6+5NmVgRsBT4E3BslCYxUU1PjwztB5KWYGQ23bkl6u/dv2pCSdofbTtZnWaYmM3vJJJC07iB3fzL82QvcDVwCHDGzkjDAEqA3WfGIiEiSkoCZzTGz3OHnQAOwE7gX2Bi+bCNwTzLiERGRQLKGiM4D7jaz4Ta/6+73mdmvgB+Y2fXAIeAtSYpHRERIUhJw9wNA1Uss7wOuSEYMIiLyYqkeIioiIimkJCAiksGUBEREMpiSgIhIBptQEjCz2WZ23mQHIyIiyRUpCZjZbWZ2Sfj8SuAocMzM/iSRwYmISGJFPRJ4B8HFXQCbgOuANwF/n4igREQkOaJeJ3C+uz9rZoXAInffDGBmCxMXmoiIJFrUJLDXzN4BLCaY/A0zuxA4lajAREQk8aImgb8CvgQ8B1wfLvtj4P5EBCVTX2n5Arq7Dqc6DBEZw5hJwMxiwMXAWnc/Pbzc3e8C7kpgbDKFdXcdTum0yiISzZgnht09DnxxZAIQEZHpIerooP/QcFARkekn6jmBWcCPzKwJOExwi0gA3P1diQhMREQSL2oS2MkL1wmIiMg0ESkJuPunEx2IiIgkX+S5g8xsnZl908z+IyzXmNnaxIUmIlFlxWZiZkl/lJYvSPVbl5cp0pGAmX0I+AjwDeDacPEp4MvAaxMTmohENRQ/k5IhuRqOO/VFPRL4KPB6d/8cMBQu+y2wLBFBiYhIckRNArkEo4LghZFBMwmuIBYRkSkqahLYAdw8atmHgYcmNxwREUmmqENEP0Rwwdh7gVwz2wMcB3QBmYjIFBZ1iGi3mf0hcAmwgKBr6JfuPnTuLUVEJJ1FPRLA3R1oDh8yRWg2TxE5l6hDRH9vqogRBoBO4MfAv7j74CTGJpMgVbN5auigyNQQ9UjgywS3lPwyQVfQAuADwA8J7jd8IzAfuCkBMYqISIJETQLvBta5+5PDC8zsp8D97r7CzB4C/gslARGRKSXqENES4OSoZc8ApeHzvcDcSYpJRESSJPL9BIB7zOz1ZvZKM3s9sDlcDlAHdIxViZnFzOzXZrYlLBeY2VYz2xf+zJ/AexARkQmKmgT+kmBU0FeBXwNfA34FvC9cfwC4MkI9HwEeH1G+GXjA3ZcAD/DiC9JERCSBIiUBdz/t7je7+yvcfba7LwrLz4bre9z90LnqMLNygkTxjRGLrwLuDJ/fCVw97ncgIiITFvk6ATNbBlQBOSOXu/sdEav4J4ITx7kjls1z9+6wnm4zKzpL2zcANwCUlpaybds2ABYtWkRubi5tbW0AFBYWsmLFCnbs2AHAjBkzqK+vp7W1lePHjwNQU1PDkSNHOHw4GDu/ZMkSsrOz2bkzuGdOUVERS5cupbGxEYDs7Gzq6upoaWnh5MngtEhtbS2dnZ10dXUBsGzZMmKxGLt37waguLiYyspKmpqaAJg9eza1tbU0Nzdz6tQpAOrq6mhvb6enpweA5cuXE4/H2bNnDwBlZWWUl5fT3BxclpGTk0NNTQ1NTU0MDAwAUF9fz969e+nt7QVg5cqVDAwMsG/fPgDmz59PSUkJ1y4ORu4ePW082BnjqkWDzAzT/+b9MV5bMkTJnGAE8I6uGPmznIsLg+sAdx/NoudZY215HIDeU8aOrhjXLB7ECMYNb94/g9VlcYpmB3U82BmjoaHh+XYf68ui/7Sxuiyoo/sZ4+fdWVyzOCifGYJ7DsxgbXmcgllBHVsPxViQ6yzLD+J49Kksnhk0LisJtuk8abT0ZnH1oqB8Om5saY+xbkGchttuI690kPsOxlg811l8QVBHS28W8SGoLQ7KHcez2NlnbKgM6jh5xrjvYIz1C+PkzAzi2NIeY2WhU5EXbNPck0UsC2qKgvL+p7PYf8xYvzBo1y+Ms/VQjA2VcWbFgjp+ciBGTdEQ5TlB+eHuGHNmOKsuCurY05/FoRPGugXxCe8nGhoomOXj3k/F5zvLC4YmvJ8eKynhiSeeyJjP07x582hpaQEgLy+P6upqGhsbGRwM/tZXr17Nrl276OvrA6CqqooTJ05w4MABACoqKigoKKC1tRWA/Px8qqqq2L59O+6OmbFmzRra2tro7+8HoLq6mqNHj9LR0QFM/HvvbCy4BuzczOzjwCagDXh2xCp39zHvKWBmG4A3uvtfmdnrgP/l7hvM7Ji7zx3xun53P+d5gZqaGh/eCTI2M0vZdQKpaDeVbWfqe47yHSKpZ2aPuPuLskHUI4GPApe4+28m2P5lwJvM7I0E9yvOM7PvAEfMrCQ8CigBeidYv4iITEDUE8OnCO4fMCHufou7l7t7BfA24EF3vw64F9gYvmwjcM9E2xARkfGLmgT+BvhnMysxs6yRj5fZ/ueAdWa2D1gXlkVEJEmidgd9O/z5nhHLhs83xcbToLtvA7aFz/uAK8azvYiITJ6oSaAyoVGIiEhKRL2fwEGAsPvn+WGdIiIytUXq0zezuWb2XeA0sD9c9iYz+2wigxMRkcSKemL3X4GngYW8cHP5JuDPEhGUiIgkR9RzAlcApe5+xswcwN2fOtsVviIiMjVEPRJ4Grhw5AIzWwDo3ICIyBQWNQl8A9hsZpcDWWZWRzDh278mLDIREUm4qN1Bnyc4KXw7MBO4g2Ba6S8lKC4REUmCqENEnWAW0H9KZDAiIpJcUYeIXm5mleHzYjO708zuMLPixIYnIiKJFPWcwP8B4uHzLxJ0CTnBHcZERGSKinpOoMzdD5nZDOCPeeF6gScTFpmIiCRc1CRw3MzmASuB3e5+0szOIzgiEBGRKSpqEvhnghvLn0dwgxkIbhQz4XsMiIhI6kUdHfR5M7sbiLv7E+HiLn5/amkREZliIt9o3t33Dj8PLxqLu/uOhEQlIiJJEXWI6HYzuyx8/jHg34HvhTegFxGRKSrqENGVwC/C5+8FXgdcCrwvATGJiEiSRO0OygLczF4BmLs/DmBm+QmLTEREEi5qEmgEvgKUAHcDhAnhdwmKS0REkiBqd9C7gWPAb4C/DZe9Ek0gJyIypUUdItoHfHzUsv9MSEQiIpI0kYeImtkq4I8Ibi5jw8vdfdPkhyUiIskQdYjoDcDDwFrgY8DFwI3A4sSFJiIiiRb1nMBNwHp3fzNwKvx5LXAmYZGJiEjCRU0CRe7+3+HzITPLcvefAn+SoLhERCQJop4T6DSzSndvB/YCV5nZ7wimkxYRkSkqahL4B4Ihoe3ArcCPCGYU/XCC4hIRkSQYMwmY2VyC6wP2Abj7T8Mrhc9z95NRGjGzWcAOIDts80fu/ikzKwC+D1QAHcBb3b1//G9DREQm4pznBMzsSoIpo1sIuoQuB3D356ImgNAAsNbdq4BVwHozuxS4GXjA3ZcAD4RlERFJkrFODH+GYEhoDrAJ+LuJNOKB4aQxkxfuUXwVcGe4/E7g6onULyIiEzNWd9Aid/8KgJndDnxiog2ZWQx4hODagtvdvdnM5rl7N4C7d5tZ0Vm2vQG4AaC0tJRt27YFwS1aRG5uLm1tbQAUFhayYsUKduwIbnMwY8YM6uvraW1t5fjx4wDU1NRw5MgRDh8+DMCSJUvIzs5m586dABQVFbF06VIaGxsByM7Opq6ujpaWFk6eDPJYbW0tnZ2ddHV1AbBs2TJisRi7d+8GoLi4mMrKSpqamgCYPXs2tbW1NDc3c+rUKQDq6upob2+np6cHgOXLlxOPx9mzZw8AZWVllJeX09zcDEBOTg41NTU0NTUxMDAAQH19PXv37qW3txeAlStXMjAwwL59+wCYP38+JSUlXLt4EICjp40HO2NctWiQmWH637w/xmtLhiiZ4wDs6IqRP8u5uHAIgN1Hs+h51lhbHgeg95SxoyvGNYsHMYJMvnn/DFaXxSmaHdTxYGeMhoaG59t9rC+L/tPG6rKgju5njJ93Z3HN4qB8ZgjuOTCDteVxCmYFdWw9FGNBrrMsP4jj0aeyeGbQuKwk2KbzpNHSm8XVi4Ly6bixpT3GugVxGm67jbzSQe47GGPxXGfxBUEdLb1ZxIegtjgodxzPYmefsaEyqOPkGeO+gzHWL4yTMzOIY0t7jJWFTkVesE1zTxaxLKgpCsr7n85i/zFj/cKgXb8wztZDMTZUxpkVC+r4yYEYNUVDlOcE5Ye7Y8yZ4ay6KKhjT38Wh04Y6xbEJ7yfaGigYJaPez8Vn+8sLxia8H56rKSEJ554ImM+T/PmzaOlpQWAvLw8qquraWxsZHAw+FtfvXo1u3btoq+vD4CqqipOnDjBgQMHAKioqKCgoIDW1lYA8vPzqaqqYvv27bg7ZsaaNWtoa2ujvz/oGa+urubo0aN0dHQAE//eOxtz97OvNDvu7nkjykfdveCsG0QQnmO4G/gQ0Ojuc0es63f3c85MWlNT48M7QcZmZjTcuiXp7d6/aUNK2k1l25n6ns/1HSLpw8wecfcXZYOxjgTON7ORdw/LHVXG3VePJxB3P2Zm24D1wBEzKwmPAkqA3vHUJSIiL89YSeD6UeVvTqQRM7sIOBMmgNnA64HPA/cCG4HPhT/vmUj9IiIyMedMAu5+57nWj0MJcGd4XiAL+IG7bzGzJuAHZnY9cAh4yyS1JyIiEUSeRfTlcPffAK95ieV9wBXJiEFERF4s6txBIiIyDSkJiIhksLMmATP7xYjnn0pOOCIikkznOhJYGs75A8ENZEREZJo514nhe4C9ZtYBzB59fcCw8V4nICIi6eOsScDd/8LM6glm+PxDJniNgIhMX1mxmZjZ2C9MgJKy+TzZeSglbU8nY10n0Ag0mtl5k3jNgIhME0PxMymdKkNevkjXCbj7HeE00u8Eygiml/6Ouz+YyOBERCSxIg0RNbP3ENz8pQf4MdANfNfM3pvA2EREJMGiXjF8E7DO3duGF5jZ94HNwNcTEZiIiCRe1IvFCoHdo5btAV7WtNIiIpJaUZNAI/BFMzsfwMzmAP8I/DxRgYmISOJFTQLvA14NPG1mR4BjQBXwlwmKS0REkiDq6KBuYI2ZlQOlwJPu3pnQyEREJOHGNZV0+MWvL38RkWlCs4iKiGQwJQERkQw2ZhIwsywzW2tm5yUjIBERSZ4xk4C7DwH3uPtzSYhHRESSKGp30A4zuzShkYiISNJFHR10EPipmd0DHAZ8eIW7b0pEYCIiknhRk8Bs4Cfh8/LEhCIiIskW9WKxv0h0ICIiknyRLxYzs1cB1wLz3P2DZrYMyHb33yQsOhERSaio9xN4C7CD4IYy7woX5wJfTFBcIiKSBFFHB91KcD+B9wHxcFkbwSRyIiIyRUVNAkUEX/rwwsggH/FcRESmoKhJ4BGC+wuP9Dbgl5MbjoiIJFPUE8MfBu43s+uBOWb2M2Ap0BBlYzObD/xfoBgYAr7m7l8yswKCexdXAB3AW929f1zvQEREJizSkYC7/xZ4JXA78EngW8DF7r4vYjuDwI3u/irgUuADZrYcuBl4wN2XAA+EZRERSZLIQ0Td/VkzexhoJ7ipzMlxbNsNdIfPT5jZ4wQjja4CXhe+7E5gG/CxqPWKiMjLEykJmNkC4C6C/+L7gXwzawbe4e4Hx9OgmVUArwGaCa45GE4O3WZWdJZtbgBuACgtLWXbtm0ALFq0iNzcXNragnPWhYWFrFixgh07dgRvbsYM6uvraW1t5fjx4wDU1NRw5MgRDh8+DMCSJUvIzs5m586dABQVFbF06VIaGxsByM7Opq6ujpaWFk6eDPJebW0tnZ2ddHV1AbBs2TJisRi7d+8GoLi4mMrKSpqamgCYPXs2tbW1NDc3c+rUKQDq6upob2+np6cHgOXLlxOPx9mzZw8AZWVllJeX09zcDEBOTg41NTU0NTUxMDAAQH19PXv37qW3txeAlStXMjAwwL59wQHa/PnzKSkp4drFgwAcPW082BnjqkWDzAyPATfvj/HakiFK5gTn+Hd0xcif5VxcOATA7qNZ9DxrrC0PBoX1njJ2dMW4ZvEgRjAyYPP+Gawui1M0O6jjwc4YDQ0Nz7f7WF8W/aeN1WVBHd3PGD/vzuKaxUH5zBDcc2AGa8vjFMwK6th6KMaCXGdZfhDHo09l8cygcVlJsE3nSaOlN4urFwXl03FjS3uMdQviNNx2G3mlg9x3MMbiuc7iC4I6WnqziA9BbXFQ7jiexc4+Y0NlUMfJM8Z9B2OsXxgnZ2YQx5b2GCsLnYq8YJvmnixiWVBTFJT3P53F/mPG+oVBu35hnK2HYmyojDMrFtTxkwMxaoqGKM8Jyg93x5gzw1l1UVDHnv4sDp0w1i2IT3g/0dBAwSwf934qPt9ZXjA04f30WEkJFxcOTWg/XXBeUMdE99Mtt9zy/HdBsj5P8+bNo6WlBYC8vDyqq6tpbGxkcDD4W1+9ejW7du2ir68PgKqqKk6cOMGBAwcAqKiooKCggNbWVgDy8/Opqqpi+/btuDtmxpo1a2hra6O/P+gZr66u5ujRo3R0dAAT/947G3Mfe4CPmT1EMDroE+7+jJnlAJ8BXuPurxuzghfqyQG2A3/n7j82s2PuPnfE+n53zz9XHTU1NT68E2RsZkbDrVuS3u79mzakpN1Utq33nPy2o3x/ScDMHnH3F2WDqN1BfwA0uPsZAHc/aWYfA/rGEcBMYDNwl7v/OFx8xMxKwqOAEqA3an0iIvLyRR0i+gvgklHLaoCmKBubmQHfBB5395FXGd8LbAyfbwTuiRiPiIhMgrMeCZjZrSOKTwD/z8z+k2Aq6fnAG4HvRmznMoLrDB4zs0fDZR8HPgf8IBx6egh4y7iiFxGRl+Vc3UHzR5WHu3CKgAHgbmBWlEbcvRGws6y+IkodIiIy+c6aBDR9tIjI9DeeqaTPBxYDOSOXu/vPJzsoERFJjqjXCbwL+ArwHHBqxCoHFiQgLhERSYKoRwL/AFzj7lsTGYyIiCRX1CGizxFM6SAiItNI1CTwN8AXzezCRAYjIiLJFTUJ7AXeRHCFbzx8DJlZfKwNRUQkfUU9J/BvBPcD+D6/f2JYRESmsKhJoBDY5JqtSURkWonaHfQtXnx7SRERmeKiHglcAnzQzD4BHBm5wt1XT3pUIiKSFFGTwNfDh4iITCORkoC735noQEREJPmiThvxP862zt3vmLxwREQkmaJ2B40+KVwMvAJ4GFASEBGZoqJ2B10+ell4dPCqSY9IRESSJuoQ0ZfybeD6SYpDRERSIOo5gdHJ4nzgOuDYZAckIiLJE/WcwCDBvQNG6gLeO7nhiIhIMkVNApWjys+4++8mOxgREUmuqCeGDyY6EBERSb5zJgEze4gXdwON5O5+xeSGJCIiyTLWkcB3zrK8DPgwwQliERGZos6ZBNz9myPLZlYI3EJwQvj7wK2JC01ERBIt0nUCZpZnZp8B9gPzgGp3v8HdOxManYiIJNQ5k4CZzTazW4ADBFcH17v7O939iaREJyIiCTXWOYF2IAb8A9ACzDOzeSNf4O4PJig2ERFJsLGSwGmC0UHvP8t6BxZNakQiIpI0Y50YrpiMRszsDmAD0OvuK8NlBQQnlyuADuCt7t4/Ge2JiEg0L2cCufH4NrB+1LKbgQfcfQnwQFgWEZEkSkoScPcdwNFRi68Chu9YdidwdTJiERGRF0SdOygR5rl7N4C7d5tZ0dleaGY3ADcAlJaWsm3bNgAWLVpEbm4ubW1tABQWFrJixQp27NgBwIwZM6ivr6e1tZXjx48DUFNTw5EjRzh8+DAAS5YsITs7m507dwJQVFTE0qVLaWxsBCA7O5u6ujpaWlo4efIkALW1tXR2dtLV1QXAsmXLiMVi7N69G4Di4mIqKytpamoCYPbs2dTW1tLc3MypU6cAqKuro729nZ6eHgCWL19OPB5nz549AJSVlVFeXk5zczMAOTk51NTU0NTUxMDAAAD19fXs3buX3t5eAFauXMnAwAD79u0DYP78+ZSUlHDt4kEAjp42HuyMcdWiQWaG6X/z/hivLRmiZE5wYfiOrhj5s5yLC4cA2H00i55njbXlcQB6Txk7umJcs3gQIzgptHn/DFaXxSmaHdTxYGeMhoaG59t9rC+L/tPG6rKgju5njJ93Z3HN4qB8ZgjuOTCDteVxCmYFdWw9FGNBrrMsP4jj0aeyeGbQuKwk2KbzpNHSm8XVi4Ly6bixpT3GugVxGm67jbzSQe47GGPxXGfxBUEdLb1ZxIegtjgodxzPYmefsaEyqOPkGeO+gzHWL4yTMzOIY0t7jJWFTkVesE1zTxaxLKgpCsr7n85i/zFj/cKgXb8wztZDMTZUxpkVC+r4yYEYNUVDlOcE5Ye7Y8yZ4ay6KKhjT38Wh04Y6xbEJ7yfaGigYJaPez8Vn+8sLxia8H56rKSEiwuHJrSfLjgvqGOi++mWW255/rsgWZ+nefPm0dLSAkBeXh7V1dU0NjYyOBj8ra9evZpdu3bR19cHQFVVFSdOnODAgQMAVFRUUFBQQGtrKwD5+flUVVWxfft23B0zY82aNbS1tdHfH/SOV1dXc/ToUTo6OoCJf++djbmfa1aIyWNmFcCWEecEjrn73BHr+909f6x6ampqfHgnyNjMjIZbtyS93fs3bUhJu6lsW+85+W0n6/trOjCzR9z9RdkgWecEXsoRMysBCH/2pjAWEZGMlMokcC+wMXy+EbgnhbGIiGSkpCQBM/se0AQsM7NOM7se+Bywzsz2AevCsoiIJFFSTgy7+9vPskrTUIuIpFAqu4NERCTFlARERDKYkoCISAZTEhARyWBKAiIiGSyV00ZklNLyBXR3HU51GCIiv0dJIEm6uw6n7LJ+EZGzUXeQiEgGUxIQEclg6g4SkSkpKzYTM0t6uyVl83my81DS200UJQERmZKG4md0nm0SqDtIRCSDKQmIiGQwJQERkQymJCAiksGUBEREMlhGjQ7S1A0iIr8vo5JAqqZugOk3rExEpgd1B4mIZDAlARGRDKYkICKSwZQEREQymJKAiEgGy6jRQSIiL1eqZi+FxMxgqiQgIjIOqZq9FBIz1FzdQSIiGUxJQEQkgykJiIhksJQnATNbb2Z7zGy/md2c6nhERDJJSpOAmcWA24E3AMuBt5vZ8lTGJCKSSVJ9JHAJsN/dD7j7c8C/A1elOCYRkYxh7p66xs2uBda7+3vC8juBWnf/4KjX3QDcEBaXAXvG0cyFwO8mIdzJlq5xQfrGlq5xQfrGlq5xQfrGlq5xwcuLbaG7XzR6YaqvE3ipKy5elJXc/WvA1ybUgFmLu9dMZNtESte4IH1jS9e4IH1jS9e4IH1jS9e4IDGxpbo7qBOYP6JcDjyZolhERDJOqpPAr4AlZlZpZucBbwPuTXFMIiIZI6XdQe4+aGYfBH4GxIA73H3XJDczoW6kJEjXuCB9Y0vXuCB9Y0vXuCB9Y0vXuCABsaX0xLCIiKRWqruDREQkhZQEREQy2LRNAuk0HYWZ3WFmvWa2c8SyAjPbamb7wp/5KYhrvpk9ZGaPm9kuM/tIOsRmZrPM7Jdm1hbG9el0iGtUjDEz+7WZbUmn2Mysw8weM7NHzawlXWIzs7lm9iMz+23491aX6rjMbFn4exp+HDezj6Y6rhHx/c/w73+nmX0v/FxMemzTMgmk4XQU3wbWj1p2M/CAuy8BHgjLyTYI3OjurwIuBT4Q/p5SHdsAsNbdq4BVwHozuzQN4hrpI8DjI8rpFNvl7r5qxHjydIjtS8B97v5KoIrgd5fSuNx9T/h7WgX8AfAscHeq4wIwszLgw0CNu68kGDjztoTE5u7T7gHUAT8bUb4FuCXFMVUAO0eU9wAl4fMSYE8a/N7uAdalU2zA+UArUJsucRFcz/IAsBbYkk77E+gALhy1LKWxAXlAO+FAlHSJa1QsDcDD6RIXUAYcBgoIRnFuCWOc9Nim5ZEAL/wCh3WGy9LJPHfvBgh/FqUyGDOrAF4DNJMGsYXdLY8CvcBWd0+LuEL/BNwEDI1Yli6xOXC/mT0STreSDrEtAp4CvhV2oX3DzOakQVwjvQ34Xvg85XG5exdwG3AI6Aaedvf7ExHbdE0CkaajkICZ5QCbgY+6+/FUxwPg7nEPDtPLgUvMbGWKQwLAzDYAve7+SKpjOYvL3L2aoCv0A2a2OtUBEfwnWw38i7u/BniG1HaX/Z7wQtU3AT9MdSzDwr7+q4BKoBSYY2bXJaKt6ZoEpsJ0FEfMrAQg/NmbiiDMbCZBArjL3X+cTrEBuPsxYBvBOZV0iOsy4E1m1kEw6+1aM/tOmsSGuz8Z/uwl6N++JA1i6wQ6w6M5gB8RJIVUxzXsDUCrux8Jy+kQ1+uBdnd/yt3PAD8GXpuI2KZrEpgK01HcC2wMn28k6I9PKjMz4JvA4+7+xXSJzcwuMrO54fPZBB+I36Y6LgB3v8Xdy929guDv6kF3vy4dYjOzOWaWO/ycoA95Z6pjc/ce4LCZLQsXXQHsTnVcI7ydF7qCID3iOgRcambnh5/TKwhOpk9+bKk6EZOEEytvBPYCTwCfSHEs3yPo1ztD8F/R9UAhwcnFfeHPghTEVU/QTfYb4NHw8cZUxwa8Gvh1GNdOYFO4POW/s1Fxvo4XTgynPDaCvve28LFr+O8+TWJbBbSE+/QnQH6axHU+0AdcMGJZyuMK4/g0wT8/O4F/A7ITEZumjRARyWDTtTtIREQiUBIQEclgSgIiIhlMSUBEJIMpCYiIZDAlARGRDKYkIBKRmW0zs34zy051LCKTRUlAJIJwgr0/Iri47k2pjUZk8igJiETzLuAXBPeGGL5sHzMrNLP/CG9I8isz+6yZNY5Y/8rw5h9HLbjJ0VuTH7rI2c1IdQAiU8S7gC8STLX9CzOb58GEY7cTzIpZTHDPiJ8BB+H5+Xu2ApsIJil7NcE0z7vcfVfS34HIS9CRgMgYzKweWAj8wIMppJ8A/jy8g901wKfc/Vl33w3cOWLTDUCHu3/L3QfdvZVgxtZrk/wWRM5KSUBkbBuB+939d2H5u+GyiwiOpkfewGjk84VArZkdG34A7yA4ahBJC+oOEjmHcCrrtwIxM+sJF2cDc4F5BPdpLieYsRZ+/z4Wh4Ht7r4uOdGKjJ9mERU5BzN7O0G//yrguRGrfkBw34pyIA68B1gA3A8ccvf6cG7/ncAnCW5AQ1jPSXcfeZN6kZRRd5DIuW0EvuXuh9y9Z/gBfIWga+eDwAVAD8Gc798DBgDc/QTBjV3eRnBnux7g8wRHEiJpQUcCIpPIzD4PFLv7xjFfLJIGdCQg8jKE1wG82gKXENw17u5UxyUSlU4Mi7w8uQRdQKUEN/3+Aqm7V67IuKk7SEQkg6k7SEQkgykJiIhkMCUBEZEMpiQgIpLBlARERDLY/wfkcMafeJ6OOAAAAABJRU5ErkJggg==\n",
      "text/plain": [
       "<Figure size 432x288 with 1 Axes>"
      ]
     },
     "metadata": {
      "needs_background": "light"
     },
     "output_type": "display_data"
    }
   ],
   "source": [
    "plt.hist(class_1[\"Age\"], edgecolor='black', color='steelblue')\n",
    "\n",
    "plt.grid(axis='y', linestyle = '--')\n",
    "\n",
    "plt.xlabel('Age')\n",
    "plt.ylabel('Number of Passengers')\n",
    "plt.title(\"First Class\")"
   ]
  },
  {
   "cell_type": "code",
   "execution_count": 68,
   "metadata": {},
   "outputs": [
    {
     "data": {
      "text/plain": [
       "Text(0.5, 1.0, 'Second Class')"
      ]
     },
     "execution_count": 68,
     "metadata": {},
     "output_type": "execute_result"
    },
    {
     "data": {
      "image/png": "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\n",
      "text/plain": [
       "<Figure size 432x288 with 1 Axes>"
      ]
     },
     "metadata": {
      "needs_background": "light"
     },
     "output_type": "display_data"
    }
   ],
   "source": [
    "plt.hist(class_2[\"Age\"], edgecolor='black', color='#d97d2a')\n",
    "\n",
    "plt.grid(axis='y', linestyle = '--')\n",
    "\n",
    "plt.xlabel('Age')\n",
    "plt.ylabel('Number of Passengers')\n",
    "plt.title(\"Second Class\")"
   ]
  },
  {
   "cell_type": "code",
   "execution_count": 69,
   "metadata": {},
   "outputs": [
    {
     "data": {
      "text/plain": [
       "Text(0.5, 1.0, 'Third Class')"
      ]
     },
     "execution_count": 69,
     "metadata": {},
     "output_type": "execute_result"
    },
    {
     "data": {
      "image/png": "iVBORw0KGgoAAAANSUhEUgAAAYgAAAEaCAYAAAAL7cBuAAAAOXRFWHRTb2Z0d2FyZQBNYXRwbG90bGliIHZlcnNpb24zLjMuMiwgaHR0cHM6Ly9tYXRwbG90bGliLm9yZy8vihELAAAACXBIWXMAAAsTAAALEwEAmpwYAAAusUlEQVR4nO3de3xddZ3v/9cnt22xqbTFXNoE0zK92FYDOXsIGTItggiDCHOm6qlYRK0Ui1I4Bx5ItYfKDAzKqZ6xKvyUU4GfFStalIsOF6tpJ0waDNFIG2hK20hSmlTaQlooO7fP+WOtwKZnN9nNbW+a9/Px2I/s9V2X72dndefT9V3f9f2auyMiInK0jFQHICIi6UkJQkREElKCEBGRhJQgREQkISUIERFJSAlCREQSUoKQMcXMSszMzSw6lG362fdRM7t3SEEGx/m6mW0d6nFEhkIJQk4Y4R/1/l73JnmoFqAQ+NMIxWlm9gUzqzGzQ2bWYWb1ZnajmU0YiTpFBiMr1QGIDKPCuPcXA3cfVXYEmDjQQdy9B2jrbxszy3b3rsEECfwYWAj8K3AtsA+YC3w5fH/vII8rMqx0BSEnDHdv63sBrxxd5u6vxm3+PjN70sxeN7NGMzu/b8XRTUxmdk64fJGZPW1mncAFZnaSmd1rZofNrN3MvjpQjGb2SeDTwKfd/V/c/Wl3b3b3X7v7PwC/OsZ+f2tmT5jZy+EVR7WZVRy1zVVm1mRmb5jZX83scTPLCtd9wMw2hvseMrMGM/vQ8fx+ZexRgpCx6jZgDVAK/AFYb2bjB9jnm8BKYDZQC6wGzie4GjgPOAOYP8AxPg00ufuDiVa6+yvH2C+X4Mrj74EzCZq/fmNmpwCEyez7wC3ALODDwGNx+98P7A33PQP4OvDGALHKGKcmJhmr/re7PwIQ/s//M8DpQHU/+3zd3Z8I9xkPLAE+7+6Ph2WfA1oHqHcG8PzxBuvuv4tfNrNrCBLThcA64FTgNeBhdz8E/AVoiNvlfcBqd++r+4XjjUHGHl1ByFj157j3L4U/8wbYpy7u/WlADlDTV+Duh4FnBziGJRvg23YyyzOzH4RNSK8Ch8J4Tw03eZIgKew2s5+Y2RVmlht3iG8D/8fMfmdmXzOz2YOJQ8YWJQgZq968wexvDWk80Pfhtbj3g/pDDzQB7x/EfvcBfwv8d+DvCK52WgmSFOFVQxnwSeBFYAXwvJlNCdd/HZhDcI/j74A/m9nnB/kZZIxQghAZnBcIksxZfQVm9m5g3gD73Q/MMLN/SrTSzE4+xn6VwHfDm9nbCK4g4nto4e7d7v47d18BfBB4N0Fvrr71O9x9jbt/FFgLfGGAWGWM0z0IkUFw98Nmthb4ppn9laCZ6mYgc4BdHwD+EfiJmf0rwY3kfQRXFdcAPydxN9cmYLGZ1RL84b8D6OxbaWYXEzR7bQYOAB8iuLH9nJmNI7ih/nOgGcgnSDi1x/mxZYxRghAZvBsI/lj/Engd+G64fEzu7mZ2GXAlwU3urwC9wE7gp8CGY+z6eeCHwDMEyejrwHvj1r9CkHhuBk4Kj/cFd/8PM8sheP7jPqAA2A88GsYvckymGeVERCQR3YMQEZGElCBERCQhJQgREUlICUJERBI6YXoxnXLKKV5SUpLqMERE3lGeeeaZl939vYnWnTAJoqSkhLq6uoE3FBGRN5nZX461Tk1MIiKSkBKEiIgkpAQhIiIJKUGIiEhCShAiIpKQEoSIiCSkBCEiIgkpQYiISEJKECIikpASxBhVUFyImaXkVVBcOHCAIpJyJ8xQG3J82lvbiNx/WmrqvmxnSuoVkeOjKwgREUlICUJERBJSghARkYSUIEREJCElCBERSUgJQkREElKCEBGRhJQgREQkISUIERFJSAlCREQSGpUEYWY/MrN9ZrY1wbobzMzN7JS4shVm9oKZbTezC0YjRhERebvRuoK4F7jw6EIzKwbOB16MK5sDLALmhvvcaWaZoxOmiIj0GZUE4e6bgQMJVv1v4EbA48ouBda7e8zddwMvAGeOfJQiIhIvZaO5mtklwB53bzCz+FVTgS1xy61hWaJjLAWWAkyZMoWqqioApk+fTm5uLg0NDQBMnjyZuXPnsnnzZgCysrKorKykvr6ejo4OAKLRKO3t7bS0tAAwY8YMIpEIW7cGrWJ5eXnMnDmT6upqACKRCBUVFdTV1XH48GEAysvLaW1tZc+ePQDMmjWLzMxMGhsbASgoKGDatGnU1NQAMG7cOMrLy6mtreXIkSMAVFRUsHv3btra2gCYM2cOPT09bN++PfjlTJ1KUVERtbW1AIwfP55oNEpNTQ2xWAyAyspKmpqa2LdvHwDz5s0jFouxY8cOAIqLiyksLOSGyHUAtHgbd3WuZ1XkaiLkALAytobF2RczO2M6AGu7NjDV8rkwqxKAjd1baOptZlnOIgB29rawtmsDt0aWk0EGvfSyMraGJdkLOS2jGIC7OtczM6OEc1cvo6qqSucpifOUn59PXV0dABMmTKCsrIzq6mq6u7sBmD9/Ptu2bWP//v0AlJaWcujQIXbt2gVASUkJkyZNor6+HoCJEydSWlrKpk2bcHfMjAULFtDQ0MDBgwcBKCsr48CBAzQ3NwP6Pp3o56k/5u79bjBczKwEeNTd55nZScDvgY+4+6tm1gxE3f1lM/s+UOPu68L91gK/cfcN/R0/Go163wmSgZlZyob7jl22k9H6dyci/TOzZ9w9YaZI1RXEacA0oO/qoQioN7MzCa4YiuO2LQJeGvUIRUTGuJR0c3X3Z909z91L3L2EICmUuXsb8DCwyMwiZjYNmAE8nYo4RUTGstHq5vpToAaYZWatZrbkWNu6+zbgAaAReAz4krv3jEacIiLyllFpYnL3Tw2wvuSo5duA20YyJhER6Z+epBYRkYSUIEREJCElCBERSUgJQkREElKCEBGRhJQgREQkISUIERFJSAlCREQSUoIQEZGElCBERCQhJQgREUloUAnCzMaZWc5wByMiIukjqQRhZqvDuRows48STB/6ipl9bCSDExGR1En2CuLTwNbw/c3AYuAS4F9HIigREUm9ZIf7PsndXzezycD0vuk/zex9IxeaiIikUrIJosnMPg38DfAkgJmdAhwZqcBERCS1kk0QVwPfATqBvtngLgCeGImg5ASXDeFc5KMqv6iAtpa9o16vyDvVgAnCzDKBDwDnuvsbfeXu/hPgJyMYm5youiBy/2mjXm37ZTtHvU6Rd7IBb1KH80F/Oz45HC8z+5GZ7TOzrXFl/8vMnjezP5vZL83s5Lh1K8zsBTPbbmYXDLZeEREZvGR7MT0yxC6t9wIXHlX2JDDP3T8INAErAMxsDrAImBvuc2d4FSMiIqMo2XsQ7wJ+YWY1QAvgfSvc/TMD7ezum82s5Kiy+PsXW4CPh+8vBda7ewzYbWYvAGcCNUnGKiIiwyDZBLGVt56DGAmfB34Wvp9KkDD6tIZl/w8zWwosBZgyZQpVVVUATJ8+ndzcXBoaGgCYPHkyc+fOZfPmzQBkZWVRWVlJfX09HR0dAESjUdrb22lpaQFgxowZRCIRtm4NPnZeXh4zZ86kuroagEgkQkVFBXV1dRw+fBiA8vJyWltb2bNnDwCzZs0iMzOTxsZGAAoKCpg2bRo1NUGuGzduHOXl5dTW1nLkSNAhrKKigt27d9PW1gbAnDlz6OnpYfv27cEvZ+pUioqKqK2tBWD8+PFEo1FqamqIxWIAVFZW0tTUxL59+wCYN28esViMHTt2AFBcXExhYSE3RK4DoMXbuKtzPasiVxMheEB+ZWwNi7MvZnbGdADWdm1gquVzYVYlABu7t9DU28yynEUA7OxtYW3XBm6NLCeDDHrpZWVsDUuyF3JaRjEAd3WuZ2ZGCeeuXoZFIjzWXc0eb2dJ9kIAnu/dxbquR7k1shyAGJ3cEruTZTmLKLYCANZ0ruP0zNnMz4wC8Eh3Fa94B5dnXwLAs71NPNj1W1ZFrgbgEK9xe+xurs1ZTN7qXKqqqt5R5yk/P5+6ujoAJkyYQFlZGdXV1XR3dwMwf/58tm3bxv79+wEoLS3l0KFD7Nq1C4CSkhImTZpEfX09ABMnTqS0tJRNmzbh7pgZCxYsoKGhgYMHDwJQVlbGgQMHaG5uBvR9OtHPU3/M3fvdYLiEVxCPuvu8o8q/BkSBf3J3N7PvAzXuvi5cvxb4Td+zF8cSjUa97wTJwMwsJTeKAWKX7UxJ3bHLdjJa/95F3inM7Bl3T5gpkr2CwMzOJ7g3kOfuHzOzKDDB3X83hMCuAC4GzvO3vrmtQHHcZkXAS4OtQ0REBifZsZiuAe4CdgDzw+IjwK2DrdjMLgS+Alzi7q/HrXoYWGRmETObBswAnh5sPSIiMjjJXkFcR/C//GYz+0pY9jwwK5mdzeynwDnAKWbWCqwi6LUUAZ4MH5ra4u5fdPdtZvYA0Ah0A18Ku9qKiMgoSjZB5BL0XoK3ejBlEzxZPSB3/1SC4rX9bH8bcFuSsYmIyAhI9jmIzcBNR5UtB34/vOGIiEi6SPYK4hqCh+WuBHLNbDvQAWg+CBGRE1RSCcLd95rZ3xI8sHYqQXPT0+7eO5LBiYhI6iTdzTXshlobvkRE5ASXVIIws7cNrxEnRvDcwoPAXe7ePYyxiYhICiV7BbGGYJrRNQTNS6cCXwJ+TjA/9fUED7fdOAIxiohICiSbID4LnO/ubz7RbGb/Djzh7nPN7PfAb1GCEBE5YSTbzbUQOHxU2WvAlPB9E3DyMMUkIiJpIOn5IICHzOzDZjbbzD4MbAjLASqA5hGIT0REUiTZBHEVQe+lHwB/BH4I/AH4Yrh+F/DRYY9ORERSJtnnIN4geJL66Kep+9a3DWdQIiKSescz3PcsoBQYH1/u7j8a7qBERCT1kn0O4qvAzUADED80twNKECIiJ6DjGe77THf/8wjGIiIiaSTZm9RHCOZ/EBGRMSLZBPE/ge+aWaGZZcS/RjI4ERFJnWSbmO4Nf34hrswI7kFkDmdAIiKSHpJNENNGNAoREUk7STURuftf3P0vBAP1dfYth2UDMrMfmdk+M9saVzbJzJ40sx3hz4lx61aY2Qtmtt3MLjjeDyUiIkOXVIIws5PN7H7gDeCFsOwSM7s1yXruBS48quwmYKO7zwA2hsuY2RxgETA33OdOM1MzlojIKEv2JvP/B7wKvA/oDMtqgP+WzM7uvplgWPB4lwL3he/vA/4xrny9u8fcfTdBQjozyThFRGSYJHsP4jxgirt3mZkDuPtfzSxvCHXnu/ve8Fh74441FdgSt11rWCYiIqMo2QTxKnAKsLevwMxOjV8eRpagLNFsdpjZUmApwJQpU6iqqgJg+vTp5Obm0tDQAMDkyZOZO3cumzdvBiArK4vKykrq6+vp6OgAIBqN0t7eTktLCwAzZswgEomwdWtw2yQvL4+ZM2dSXV0NQCQSoaKigrq6Og4fDkZCLy8vp7W1lT179gAwa9YsMjMzaWxsBKCgoIBp06ZRU1MDwLhx4ygvL6e2tpYjR44AUFFRwe7du2lrC4a3mjNnDj09PWzfvh2AqVOnUlRURG1tMPPr+PHjiUaj1NTUEIvFAKisrKSpqYl9+/YBMG/ePGKxGDt27ACguLiYwsJCbohcB0CLt3FX53pWRa4mQg4AK2NrWJx9MbMzpgOwtmsDUy2fC7MqAdjYvYWm3maW5SwCYGdvC2u7NnBrZDkZZNBLLytja1iSvZDTMooBuKtzPTMzSjh39TIsEuGx7mr2eDtLshcC8HzvLtZ1PcqtkeUAxOjkltidLMtZRLEVALCmcx2nZ85mfmYUgEe6q3jFO7g8+xIAnu1t4sGu37IqcjUAh3iN22N3c23OYvJW51JVVfWOOk/5+fnU1dUBMGHCBMrKyqiurqa7O5i8cf78+Wzbto39+/cDUFpayqFDh9i1axcAJSUlTJo0ifr6egAmTpxIaWkpmzZtwt0xMxYsWEBDQwMHDx4EoKysjAMHDtDc3Azo+3Sin6f+WDDVdP/M7CbgEuBrwC+BfwD+FXjI3f9twAMExygBHnX3eeHyduCc8OqhEKhy91lmtgLA3W8Pt3sc+Lq71/R3/Gg06n0nSAZmZkTuPy0ldccu25mSumOX7SSZf+8iY4mZPePuCTNFsvcgvgk8AHwfyCYYf+kh4DtDiOth4Irw/RXh8frKF5lZxMymATOAp4dQj4iIDEKyw3078G/h67iZ2U+Bc4BTzKwVWAV8A3jAzJYALwKfCOvaZmYPAI1AN/Ald+8ZTL0iIjJ4yY7m+iGg2d13m1kBwRVFD/DVZOaCcPdPHWPVecfY/jbgtmRiExGRkZFsE9OdBAkB4NsEzUxOMLOciIicgJLtxTTV3V80syzgAt56HuKlEYtMRERSKtkE0WFm+cA8oNHdD5tZDsGVhIiInICSTRDfBf4A5BBMHgRwNpojQkTkhJVsL6ZvmtkvgR533xkW7+Htw3+LiMgJJNkrCNy9qe992KupJxxjSURETkDJjua6yczODt9/BVgP/NTMvjqSwYmISOok2811Hm8NoHclwUNvZwFfHIGYREQkDSTbxJQBuJmdRjB+03MA8ZP8iIjIiSXZBFENfA8oJBisjzBZvDxCcYmISIol28T0WeAV4M/A18Oy2QxtsD4REUljyXZz3Q989aiyX49IRCIikhaS7uZqZqcDf08wcdCbk/q4+83DH5aIiKRast1clwJPAecCXwE+AFwP/M3IhSYiIqmU7D2IG4EL3f2/AkfCnx8HukYsMhERSalkE0Seu/9H+L7XzDLc/d+Bj41QXCIikmLJ3oNoNbNp7r4baAIuNbOXCYb8FhGRE1CyCeIOgm6tu4F/Bn5BMLLr8hGKS0REUmzABGFmJxM8/7ADwN3/PXyCOsfdD49seCIikir93oMws48SDOtdR9DM9CEAd+8cruRgZv/dzLaZ2VYz+6mZvcvMJpnZk2a2I/ypIT1EREbZQDep/4WgW+t44GbgtuGs3MymEjRTRd19HpAJLAJuAja6+wxgY7gsIiKjaKAEMd3dv+furwPfZ2See8gCxoXzXZ9EMM/1pcB94fr7gH8cgXplrMkGM0vJq6C4MNWfXuS4DXQP4s0E4u7d4R/xYePue8xsNfAicAR4wt2fMLN8d98bbrPXzPIS7R8+wLcUYMqUKVRVVQEwffp0cnNzaWhoAGDy5MnMnTuXzZuD+Y2ysrKorKykvr6ejo4OAKLRKO3t7bS0tAAwY8YMIpEIW7duBSAvL4+ZM2dSXV0NQCQSoaKigrq6Og4fDlrbysvLaW1tZc+ePQDMmjWLzMxMGhsbASgoKGDatGnU1NQAMG7cOMrLy6mtreXIkSMAVFRUsHv3btra2gCYM2cOPT09bN++HYCpU6dSVFREbW0tAOPHjycajVJTU0MsFgOgsrKSpqYm9u3bB8C8efOIxWLs2LEDgOLiYgoLC7khch0ALd7GXZ3rWRW5mgg5AKyMrWFx9sXMzpgOwNquDUy1fC7MqgRgY/cWmnqbWZazCICdvS2s7drArZHlZJBBL72sjK1hSfZCTssoBuCuzvXMzCjh3NXLsEiEx7qr2ePtLMleCMDzvbtY1/Uot0aCvg8xOrkldifLchZRbAUArOlcx+mZs5mfGQXgke4qXvEOLs++BIBne5t4sOu3rIpcDcAhXuP22N1cm7OYvNtzsWkRvtV5L2dnnsFZmaUAbOh+ki7vYlH2RQDU9zTyePdTrIhcCcABf5XVnfdwQ87nmGTvAeD22N1ckHU2ZZlzAFjf9RuyLZuFWecDsKWngad6/sj1OZ8F4KX/bAY47vOUn59PXV0dABMmTKCsrIzq6mq6u7sBmD9/Ptu2bWP//v0AlJaWcujQIXbt2gVASUkJkyZNor6+HoCJEydSWlrKpk2bcHfMjAULFtDQ0MDBgwcBKCsr48CBAzQ3BzHr+3Rin6f+mLsfe6VZN/CfcUUVQE38Nu4+v98a+qs8uLewAfhvBIMB/pygh9T33P3kuO0Ounu/9yGi0aj3nSAZmJkRuf+0lNQdu2xnSupOVb19dff3XRNJFTN7xt0TZoqBrgiWHLW8dnhCetOHgd3u/lcAM3sQ+Dug3cwKw6uHQmDfMNcrIiID6DdBuPt9/a0fBi8CZ5nZSQRNTOcR9Jh6DbgC+Eb486ERjkNERI4yrPcUjpe715rZL4B6oBv4I/BDgl5TD5jZEoIk8onURSkiMjalNEEAuPsqYNVRxTGCqwkREUmRZAfrExGRMeaYCcLMtsS9P/p/+CIicoLr7wpippm9K3x//WgEIyIi6aO/exAPAU1m1kzwpPPmRBsN5TkIERFJX8dMEO7+OTOrBEqAv2X4n4EQEZE0NtBzENVAtZnljMIzESIikkaS6ubq7j8Kh/q+HJhKMAT4Onf/3UgGJyIiqZNUN1cz+wLwM6ANeBDYC9xvZleOYGwiIpJCyT4odyNwvrs39BWY2c8IBtq7eyQCExGR1Er2QbnJQONRZduBScMbjoiIpItkE0Q18O1wUD3M7N3A/+LtQ4GLiMgJJNkE8UXgg8CrZtZOMHdDKXDVCMUlIiIplmwvpr3AAjMrAqYAL7l764hGJiIiKXVco7mGSUGJQURkDNBoriIikpAShIiIJDRggjCzDDM718xyRiMgERFJDwMmCHfvBR5y985RiEdERNJEsk1Mm83srJEIwMxONrNfmNnzZvacmVWY2SQze9LMdoQ/J45E3SIicmzJ9mL6C/DvZvYQ0AJ43wp3v3mIMXwHeMzdPx42Y50EfBXY6O7fMLObgJuArwyxHhEROQ7JJohxwK/C90XDVbmZTQDmA58FCJuxOs3sUuCccLP7gCqUIERERlWyD8p9boTqnw78FbjHzEqBZ4Brgfzw4Tzcfa+Z5Y1Q/SIicgxJPyhnZu8HPk7wx/vLZjYLiLj7n4dYfxlwjbvXmtl3CJqTko1pKbAUYMqUKVRVVQEwffp0cnNzaWgIBp+dPHkyc+fOZfPmYNbUrKwsKisrqa+vp6OjA4BoNEp7ezstLS0AzJgxg0gkwtatWwHIy8tj5syZVFdXAxCJRKioqKCuro7Dhw8DUF5eTmtrK3v27AFg1qxZZGZm0tgYjHNYUFDAtGnTqKmpAWDcuHGUl5dTW1vLkSNHAKioqGD37t20tbUBMGfOHHp6eti+fTsAU6dOpaioiNraWgDGjx9PNBqlpqaGWCwGQGVlJU1NTezbtw+AefPmEYvF2LFjBwDFxcUUFhZyQ+Q6AFq8jbs617MqcjURgs5qK2NrWJx9MbMzpgOwtmsDUy2fC7MqAdjYvYWm3maW5SwCYGdvC2u7NnBrZDkZZNBLLytja1iSvZDTMooBuKtzPTMzSjh39TIsEuGx7mr2eDtLshcC8HzvLtZ1PcqtkeUAxOjkltidLMtZRLEVALCmcx2nZ85mfmYUgEe6q3jFO7g8+xIAnu1t4sGu37IqcjUAh3iN22N3c23OYvJW52KRCN/qvJezM8/grMxSADZ0P0mXd7Eo+yIA6nsaebz7KVZEgtHsD/irrO68hxtyPsckew8At8fu5oKssynLnAPA+q7fkG3ZLMw6H4AtPQ081fNHrs/5LAAvXd8McNznKT8/n7q6OgAmTJhAWVkZ1dXVdHd3AzB//ny2bdvG/v37ASgtLeXQoUPs2rULgJKSEiZNmkR9fT0AEydOpLS0lE2bNuHumBkLFiygoaGBgwcPAlBWVsaBAwdobg5i1vfpxD5P/TF373cDADP7BHAnwfDel7n7BDOLAt9w9w8PeIBjH7cA2OLuJeHy3xMkiL8BzgmvHgqBKnef1d+xotGo950gGZiZEbn/tJTUHbtsZ0rqTlW9fXUn810TGW1m9oy7J8wUyfZi+meC+SC+CPSEZQ0EA/YNmru3AS3h1QjAeQTDij8MXBGWXQE8NJR6RETk+CXbxJRHkBDgrR5MHvd+KK4BfhL2YNoFfI4gcT1gZkuAF4FPDEM9IiJyHJJNEM8QzEf9/8eVLQKeHmoA7v4nINHlzXlDPbaIiAxesgliOfBE+D/6d5vZ48BM4CMjFpmIiKRUst1cnzez2cDFwKMED8s96u6HRzI4ERFJnaS7ubr762b2FLCbYMIgJQcRkRNYUr2YzOxUM/sPoBn4NdBsZtVm9r6RDE5ERFIn2W6u9xHcqD7Z3fOAicAfwnIRETkBJdvE9F+Aj7h7F4C7HzazrwD7RywyERFJqWSvILYAZx5VFgVqhjccERFJF8e8gjCzf45b3An8xsx+TdCDqRi4CLh/ZMMTEZFU6a+Jqfio5QfDn3lADPgl8K6RCEpERFLvmAliBIf4FhGRd4DjGe77JIJRVsfHl7v7fw53UCIiknpJJQgz+wzwPaATOBK3yoFTRyAuERFJsWSvIO4AFrr7kyMZjIiIpI9ku7l2EswLLSIiY0SyCeJ/At82s1NGMhgREUkfySaIJuASoN3MesJXr5n1DLSjiIi8MyV7D+LHBJMF/Yy336Q+YRQUF9Le2jbq9eYXFdDWsnfU6xURGUiyCWIycLOfwLOut7e2pWRC+/bLdo56nSIiyUi2iekegilHRURkjEj2CuJM4Mtm9jWgPX6Fu88fahBmlgnUAXvc/WIzm0TQnFVCMAfFJ9394FDrEUmZbDCzUa9WTZgyFMkmiLvD10i5FngOmBAu3wRsdPdvmNlN4fJXRrB+kZHVhZow5R0n2TmpR2xiIDMrAj4K3Ab8j7D4UuCc8P19BM9gKEGIiIyiZIfa+Pyx1rn7j4YYw78BNwK5cWX57r43PP5eM8s7RlxLgaUAU6ZMoaqqCoDp06eTm5tLQ0MDAJMnT2bu3Lls3rwZgKysLCorK6mvr6ejowOAwsJCzsyqZH5mFIBHuqt4xTu4PPsSAJ7tbeLBrt+yKnI1AId4jdtjd3NtzmLyw8dDvtV5L2dnnsFZmaUAbOh+ki7vYlH2RQDU9zTyePdTrIhcCcABf5XbWEltbS1HjgSdwyoqKti9ezdtbUGPqjlz5tDT08P27dsBmDp1KkVFRdTW1gIwfvx4otEoNTU1xGIxACorK2lqamLfvn0AzJs3j1gsxo4dOwAoLi6msLCQGyLXAdDibdzVuZ5VkauJkAPAytgaFmdfzOyM6QCs7drAVMvnwqxKADZ2b6Gpt5llOYsA2NnbwtquDdwaWU4GGfTSy8rYGpZkL+S0jGBg4Ls61zMzo4RzVy/DIhEe665mj7ezJHshAM/37mJd16PcGlkOQIxObondybKcRRRbAQBrOtdxeubsQZ2nvNW5WCQyqPO0uvMebsj5HJPsPQDcHrubC7LOpixzDgDru35DtmWzMOt8ALb0NPBUzx+5PuezALx0fTPf41esiFxJLu8G4JbYnfxT9of5QMZMAH7c9TAn2wQ+lnUOAJt76vhTz/Msz1k86PP0+EceoaOjg/r6egAmTpxIaWkpmzZtwt0xMxYsWEBDQwMHDwatuGVlZRw4cIDm5mZgcN+naDRKe3s7LS0tAMyYMYNIJMLWrVsByMvLY+bMmVRXVwMQiUSoqKigrq6Ow4eD6e7Ly8tpbW1lz549AMyaNYvMzEwaGxsBKCgoYNq0adTUBNPSjBs3jvLy8pR8n/Lz86mrqwNgwoQJlJWVUV1dTXd3NwDz589n27Zt7N8fzLFWWlrKoUOH2LVrFwAlJSVMmjQpJeepP5ZMxyQz+/1RRQXAacBT7v6hAQ9w7ONeDFzk7leb2TnADeE9iFfc/eS47Q66+8T+jhWNRr3vBA0ylpQ0AcQu20kqOoel6vNC8JlT9bsei5/5BO58KMPAzJ5x94SZItkmpv8nCYRXFe8fYmxnA5eY2UUEc0tMMLN1BA/kFYZXD4XAviHWIyIixynZbq6J3AssGUrl7r7C3YvcvQRYBPzO3RcDDwNXhJtdATw0lHpEROT4JXsP4uhEchKwGHhluAMKfQN4wMyWAC8CnxihekRE5BiS7ebaTTD3Q7w9wJXDFYi7VxGOGOvu+4HzhuvYIiJy/JJNENOOWn7N3V8e7mBERCR9JHuT+i8jHYiIiKSXfhNE2L21vz5y7u5qChIROQENdAWx7hjlU4HlBDerRUTkBNRvgnD3tfHLZjYZWEFwc/pnwD+PXGgiIpJKST0HYWYTzOxfgBeAfKDM3Ze6e+uIRiciIikz0D2IccB1wPUEXVAr3X3byIc1hqRoGGgRkYEMdA9iN5AJ3EEwX0O+meXHb+Duvxuh2MaGFA0DHdMw0CIygIESxBsEvZiWHWO9A9OHNSIREUkLA92kLhmlOEREJM0MZbA+ERE5gSlBiIhIQkoQIiKSkBKEiIgkpAQhIiIJKUGIiEhCShAiIpKQEoSIiCSU0gRhZsVm9nsze87MtpnZtWH5JDN70sx2hD8npjJOEZGxKNVXEN3A9e7+fuAs4EtmNge4Cdjo7jOAjeGyiIiMopQmCHff6+714ftDwHMEkxFdCtwXbnYf8I8pCVBEZAxLak7q0WBmJcAZQC2Q7+57IUgiZpZ3jH2WAksBpkyZQlVVFQDTp08nNzeXhoYGACZPnszcuXPZvHkzAFlZWVRWVlJfX09HRwcAhYWFnJlVyfzMKACPdFfxindwefYlADzb28SDXb9lVeRqAA7xGrfH7ubanMXk2ykAfKvzXs7OPIOzMksB2ND9JF3exaLsiwCo72nk8e6nWBG5EoAD/iq3sZIbcj7HJHsPALfH7uaCrLMpy5wDwPqu35Bt2SzMOh+ALT0NPNXzR67P+SwA7f4y3+lcx4rIleTybgBuid3JP2V/mA9kzATgx10Pc7JN4GNZ5wCwuaeOpwtf54bIdQC0eBt3da5nVeRqIuQAsDK2hsXZFzM7IxiLcW3XBqZaPhdmVQKwsXsLTb3NLMtZBMDO3hbWdm3g1shyMsigl15WxtawJHshp2UUA3BX53pmZpRw7uplWCTCY93V7PF2lmQvBOD53l2s63qUWyPLAYjRyS2xO1mWs4hiKwBgTec6Ts+cPajzlLc6F4tEBnWeVnfeM6Tz9NL1zXyPXx33efpTz/Msz1k86PP0+D88QklJCddccw0AO3bs4Ac/+AF33HEHGRkZ9Pb2cuONN3LVVVcxY8YMAL773e8ya9YsPvKRjwDw61//mtbWVq666ioAGhsbuffee7njjjsAeOONN1i5ciXLly/n1FNPBeBb3/oWC849h6u+sBSAGTNmEIlE2Lp1KwB5eXnMnDmT6upqACKRCBUVFdTV1XH48GEAysvLaW1tZc+ePQDMmjWLzMxMGhsbASgoKGDatGnU1NQAMG7cOMrLy6mtreXIkSMAVFRUsHv3btra2gCYM2cOPT09bN++HYCpU6dSVFREbW0tAOPHjycajVJTU0MsFgOgsrKSpqYm9u3bB8C8efOIxWLs2LEDgOLiYvLz86mrqwNgwoQJlJWVUV1dTXd3NwDz589n27Zt7N+/H4DS0lIOHTrErl27ACgpKWHSpEnU19cDMHHiREpLS9m0aRPujpmxYMECGhoaOHjwIABlZWUcOHCA5uZmYHB/96LR4Ht0LObe35TTo8PMxgObgNvc/UEze8XdT45bf9Dd+70PEY1Gve8EDTKGlA27PZbqTWXd+syjX3c6/H2R/pnZM+6eMFOk+h4EZpYNbAB+4u4PhsXtZlYYri8E9qUqPhGRsSrVvZgMWAs85+7fjlv1MHBF+P4K4KHRjk1EZKxL9T2Is4HLgWfN7E9h2VeBbwAPmNkS4EXgE6kJT0Rk7EppgnD3auBYEzKfN5qxiIjI26X8HoSIiKQnJQgREUlICUJERBJSghARkYSUIEREJCElCBERSUgJQkREElKCEBGRhJQgREQkISUIERFJSAlCREQSUoIQEZGElCBERCQhJQgREUlICUJERBJSghARkYSUIETkhFJQXIiZjfqroLgw1R992KV6ylERkWHV3tpG5P7TRr/ey3aOep0jTVcQIiKSUFonCDO70My2m9kLZnZTquMRkeOQTUqaesba5x3J5q20bWIys0zg+8D5QCvwBzN72N0bUxuZiCSli5Q09cRS1dSTos8LI9e8lc5XEGcCL7j7LnfvBNYDl6Y4JhGRMcPcPdUxJGRmHwcudPcvhMuXA+Xu/uW4bZYCS8PFWcD2QVZ3CvDyEMIdDYpx+LwT4lSMw0MxDux97v7eRCvStokJSNSY+LZs5u4/BH445IrM6tw9OtTjjCTFOHzeCXEqxuGhGIcmnZuYWoHiuOUi4KUUxSIiMuakc4L4AzDDzKaZWQ6wCHg4xTGJiIwZadvE5O7dZvZl4HEgE/iRu28boeqG3Ew1ChTj8HknxKkYh4diHIK0vUktIiKplc5NTCIikkJKECIiktCYThDpOpSHmf3IzPaZ2da4sklm9qSZ7Qh/TkxxjMVm9nsze87MtpnZtekWp5m9y8yeNrOGMMZb0i3GuFgzzeyPZvZoOsZoZs1m9qyZ/cnM6tIxxjCmk83sF2b2fPhvsyKd4jSzWeHvsO/VYWbXpVOM8cZsgogbyuMfgDnAp8xsTmqjetO9wIVHld0EbHT3GcDGcDmVuoHr3f39wFnAl8LfXzrFGQPOdfdS4HTgQjM7i/SKsc+1wHNxy+kY44fc/fS4PvvpGON3gMfcfTZQSvA7TZs43X17+Ds8HfgvwOvAL9Mpxrdx9zH5AiqAx+OWVwArUh1XXDwlwNa45e1AYfi+ENie6hiPivchgnGz0jJO4CSgHihPtxgJnvHZCJwLPJqO5xtoBk45qizdYpwA7CbsfJOuccbF9RHgqXSOccxeQQBTgZa45dawLF3lu/tegPBnXorjeZOZlQBnALWkWZxh082fgH3Ak+6edjEC/wbcCPTGlaVbjA48YWbPhEPcQPrFOB34K3BP2Fz3f8zs3aRfnH0WAT8N36dljGM5QQw4lIcMzMzGAxuA69y9I9XxHM3dezy4nC8CzjSzeSkO6W3M7GJgn7s/k+pYBnC2u5cRNMl+yczmpzqgBLKAMuAudz8DeI10aao5Svjw7yXAz1MdS3/GcoJ4pw3l0W5mhQDhz30pjgczyyZIDj9x9wfD4rSLE8DdXwGqCO7tpFOMZwOXmFkzwYjF55rZOtIrRtz9pfDnPoI28zNJsxgJvtOt4VUiwC8IEka6xQlBoq139/ZwOR1jHNMJ4p02lMfDwBXh+ysI2vxTxswMWAs85+7fjluVNnGa2XvN7OTw/Tjgw8DzpFGM7r7C3YvcvYTg3+Dv3H0xaRSjmb3bzHL73hO0nW8ljWIEcPc2oMXMZoVF5wGNpFmcoU/xVvMSpGeMY/cmtQc3gy4CmoCdwNdSHU9cXD8F9gJdBP8rWgJMJriRuSP8OSnFMVYSNMn9GfhT+LooneIEPgj8MYxxK3BzWJ42MR4V7zm8dZM6bWIkaNtvCF/b+r4r6RRjXKynA3XhOf8VMDHd4iToMLEfeE9cWVrF2PfSUBsiIpLQWG5iEhGRfihBiIhIQkoQIiKSkBKEiIgkpAQhIiIJKUGIiEhCShAiQ2RmVWZ20MwiqY5FZDgpQYgMQThQ4d8TPDR4SWqjERleShAiQ/MZYAvBHB59QyVgZpPN7JFwQpg/mNmtZlYdt352ODHMAQsmrfrk6Icu0r+sVAcg8g73GeDbBEOdbzGzfA8GYPs+wWiiBQRzezwO/AXeHM/oSeBmgkHbPkgwlPY2d9826p9A5Bh0BSEySGZWCbwPeMCD4bp3ApeFsxUuBFa5++vu3gjcF7frxUCzu9/j7t3uXk8wKu7HR/kjiPRLCUJk8K4AnnD3l8Pl+8Oy9xJcncdPSBX//n1AuZm90vcCPk1wtSGSNtTEJDII4fDhnwQyzawtLI4AJwP5BHN2FxGMFgxvn3ukBdjk7uePTrQig6PRXEUGwcw+RXCf4XSgM27VAwRzjRQBPcAXgFOBJ4AX3b0ynFthK7CSYJIgwuMcdvfnRiN+kWSoiUlkcK4A7nH3F929re8FfI+guejLwHuANuDHBHN8xADc/RDBpDuLCGYxbAO+SXAFIpI2dAUhMgrM7JtAgbtfMeDGImlCVxAiIyB8zuGDFjiTYFbAX6Y6LpHjoZvUIiMjl6BZaQrBBPTfIl3mGRZJkpqYREQkITUxiYhIQkoQIiKSkBKEiIgkpAQhIiIJKUGIiEhC/xcaLaamLjVTDgAAAABJRU5ErkJggg==\n",
      "text/plain": [
       "<Figure size 432x288 with 1 Axes>"
      ]
     },
     "metadata": {
      "needs_background": "light"
     },
     "output_type": "display_data"
    }
   ],
   "source": [
    "plt.hist(class_3[\"Age\"], edgecolor='black', color='#07a623')\n",
    "\n",
    "plt.grid(axis='y', linestyle = '--')\n",
    "\n",
    "plt.xlabel('Age')\n",
    "plt.ylabel('Number of Passengers')\n",
    "plt.title(\"Third Class\")"
   ]
  },
  {
   "cell_type": "code",
   "execution_count": null,
   "metadata": {},
   "outputs": [],
   "source": []
  },
  {
   "cell_type": "code",
   "execution_count": 70,

   "metadata": {},
   "source": [
    "## How many missing ages total?"
   ]
  },
  {
   "cell_type": "code",

   "execution_count": 10,
   "metadata": {
    "scrolled": true
   },
   "outputs": [
    {
     "name": "stdout",
     "output_type": "stream",
     "text": [
      "Total ages missing for entire dataset: 263\n",
      "Percent of ages missing for entire dataset: 20.0%\n"
     ]
    }
   ],
   "source": [
    "print(f'Total ages missing for entire dataset: {titanic_all[\"Age\"].isnull().sum()}')\n",
    "#{round(titanic_all[\"Age\"].isnull().sum()/len(titanic_all)*100,0)}\n",
    "print(f'Percent of ages missing for entire dataset: {round(titanic_all[\"Age\"].isnull().sum()/len(titanic_all)*100,0)}'+ '%')"
=======
   "execution_count": 70,
   "metadata": {},
   "outputs": [
    {
     "data": {
      "text/plain": [
       "Text(0.5, 1.0, 'Class Distribution')"
      ]
     },
     "execution_count": 70,
     "metadata": {},
     "output_type": "execute_result"
    },
    {
     "data": {
      "image/png": "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\n",
      "text/plain": [
       "<Figure size 432x288 with 1 Axes>"
      ]
     },
     "metadata": {
      "needs_background": "light"
     },
     "output_type": "display_data"
    }
   ],
   "source": [
    "#Majority of passengers were Third Class\n",
    "sns.countplot(x='Pclass', data=titanic_all)\n",
    "\n",
    "plt.grid(axis='y', linestyle = '--')\n",
    "\n",
    "plt.xlabel('Passenger Class')\n",
    "plt.ylabel('Number of Passengers')\n",
    "plt.title(\"Class Distribution\")"

   ]
  },
  {
   "cell_type": "markdown",
   "metadata": {},
   "source": [
    "## Fill missing age data with median values"
   ]
  },
  {
   "cell_type": "code",

   "metadata": {},
   "outputs": [],
   "source": [
    "# Overall passenger age is scewed right, so will replace with median age per class\n",
    "# Will do this for each dataset provided: train and test"
   ]
  },
  {
   "cell_type": "code",

   "metadata": {},
   "outputs": [
    {
     "name": "stdout",
     "output_type": "stream",
     "text": [
      "Median age per class-------------------------------------------- \n"
     ]
    },
    {
     "data": {
      "text/plain": [
       "Pclass\n",
       "1    39.0\n",
       "2    29.0\n",
       "3    24.0\n",
       "Name: Age, dtype: float64"
      ]
     },
     "metadata": {},
     "output_type": "display_data"
    }
   ],
   "source": [
    "print('Median age per class-------------------------------------------- ')\n",
    "display(titanic_all.groupby(\"Pclass\")[\"Age\"].median())"
   ]
  },
  {
   "cell_type": "code",

   "metadata": {},
   "outputs": [
    {
     "name": "stdout",
     "output_type": "stream",
     "text": [
      "Median for Age separated by Class and Sex--------------------------------------\n"
     ]
    },
    {
     "data": {
      "text/plain": [
       "Pclass  Sex   \n",
       "1       female    36.0\n",
       "        male      42.0\n",
       "2       female    28.0\n",
       "        male      29.5\n",
       "3       female    22.0\n",
       "        male      25.0\n",
       "Name: Age, dtype: float64"
      ]
     },
     "metadata": {},
     "output_type": "display_data"
    }
   ],
   "source": [
    "print('Median for Age separated by Class and Sex--------------------------------------')\n",
    "display(titanic_all.groupby([\"Pclass\", \"Sex\"])[\"Age\"].median())"
   ]
  },
  {

   "cell_type": "markdown",
=======
   "cell_type": "code",
   "execution_count": 79,
   "metadata": {},
   "outputs": [],
   "source": [
    "#practice_train = train_data"
   ]
  },
  {
   "cell_type": "code",

   "metadata": {},
   "source": [
    "## Replace missing age values in train and test data sets with median age by class and sex"
   ]
  },
  {
   "cell_type": "code",

   "metadata": {},
   "outputs": [
    {
     "name": "stdout",
     "output_type": "stream",
     "text": [
      "Null Age values in train_data: 0\n",
      "Null Age values in test_data: 0\n"
     ]
    }
   ],
   "source": [

    "train_data['Age'] = titanic_all.groupby([\"Pclass\", \"Sex\"])[\"Age\"].apply(lambda x: x.fillna(x.median()))\n",
    "print(f\"Null Age values in train_data: {train_data['Age'].isnull().sum()}\")\n",
    "#---------------------------------------------------------------------------------------------------------\n",
    "test_data['Age'] = titanic_all.groupby(['Pclass', \"Sex\"])[\"Age\"].apply(lambda x: x.fillna(x.median()))\n",
    "print(f\"Null Age values in test_data: {test_data['Age'].isnull().sum()}\")"
=======
    "#practice_train[\"Age\"].isnull().sum()"
   ]
  },
  {
   "cell_type": "markdown",
   "metadata": {},
   "source": [
    "## Replace missing age values in train and test data sets with median age by class and sex"

   ]
  },
  {
   "cell_type": "code",

   "metadata": {},
   "outputs": [
    {
     "name": "stdout",
     "output_type": "stream",
     "text": [
      "Null Age values in titanic_all: 0\n"
     ]
    }
   ],
   "source": [
    "titanic_all['Age'] = titanic_all.groupby(['Pclass', \"Sex\"])[\"Age\"].apply(lambda x: x.fillna(x.median()))\n",
    "print(f\"Null Age values in titanic_all: {test_data['Age'].isnull().sum()}\")"
   ]
  },
  {
   "cell_type": "markdown",
   "metadata": {},
   "source": [
    "## Missing Fares"
   ]
  },
  {
   "cell_type": "code",

   "metadata": {},
   "outputs": [
    {
     "name": "stdout",
     "output_type": "stream",
     "text": [
      "Missing Fare values in train_data: 0\n",
      "Missing Fare values in test_data: 1\n"
     ]
    }
   ],
   "source": [
    "print(f\"Missing Fare values in train_data: {train_data['Fare'].isnull().sum()}\")\n",
    "print(f\"Missing Fare values in test_data: {test_data['Fare'].isnull().sum()}\")\n",
    "fare_miss = test_data['Fare'].isnull()"
   ]
  },
  {
   "cell_type": "code",

   "metadata": {},
   "outputs": [
    {
     "data": {
      "text/html": [
       "<div>\n",
       "<style scoped>\n",
       "    .dataframe tbody tr th:only-of-type {\n",
       "        vertical-align: middle;\n",
       "    }\n",
       "\n",
       "    .dataframe tbody tr th {\n",
       "        vertical-align: top;\n",
       "    }\n",
       "\n",
       "    .dataframe thead th {\n",
       "        text-align: right;\n",
       "    }\n",
       "</style>\n",
       "<table border=\"1\" class=\"dataframe\">\n",
       "  <thead>\n",
       "    <tr style=\"text-align: right;\">\n",
       "      <th></th>\n",
       "      <th>PassengerId</th>\n",
       "      <th>Pclass</th>\n",
       "      <th>Name</th>\n",
       "      <th>Sex</th>\n",
       "      <th>Age</th>\n",
       "      <th>SibSp</th>\n",
       "      <th>Parch</th>\n",
       "      <th>Ticket</th>\n",
       "      <th>Fare</th>\n",
       "      <th>Cabin</th>\n",
       "      <th>Embarked</th>\n",
       "    </tr>\n",
       "  </thead>\n",
       "  <tbody>\n",
       "    <tr>\n",
       "      <th>152</th>\n",
       "      <td>1044</td>\n",
       "      <td>3</td>\n",
       "      <td>Storey, Mr. Thomas</td>\n",
       "      <td>male</td>\n",
       "      <td>55.5</td>\n",
       "      <td>0</td>\n",
       "      <td>0</td>\n",
       "      <td>3701</td>\n",
       "      <td>NaN</td>\n",
       "      <td>NaN</td>\n",
       "      <td>S</td>\n",
       "    </tr>\n",
       "  </tbody>\n",
       "</table>\n",
       "</div>"
      ],
      "text/plain": [
       "     PassengerId  Pclass                Name   Sex   Age  SibSp  Parch Ticket  \\\n",
       "152         1044       3  Storey, Mr. Thomas  male  55.5      0      0   3701   \n",
       "\n",
       "     Fare Cabin Embarked  \n",
       "152   NaN   NaN        S  "
      ]
     },
     "execution_count": 17,
     "metadata": {},
     "output_type": "execute_result"
    }
   ],
   "source": [
    "# Who is missing a the Fare data?\n",
    "test_data.loc[fare_miss]"
   ]
  },
  {
   "cell_type": "code",

   "metadata": {},
   "outputs": [
    {
     "name": "stdout",
     "output_type": "stream",
     "text": [
      "Median fare for a 3rd class male passenger traveling alone from Southhampton: $7.9\n"
     ]
    }
   ],
   "source": [
    "# Median fare for a 3rd class male passenger traveling alone from Southhampton\n",
    "fare_filt = titanic_all.loc[(titanic_all['Pclass'] == 3) &\n",
    "                            (titanic_all['Sex'] == 'male')&\n",
    "                            (titanic_all['SibSp'] == 0) & \n",
    "                            (titanic_all['Parch'] == 0) & \n",
    "                            (titanic_all['Embarked'] == 'S')]['Fare'].median()\n",
    "print(f\"Median fare for a 3rd class male passenger traveling alone from Southhampton: ${round(fare_filt,2)}\")"
   ]
  },
  {
   "cell_type": "code",

   "metadata": {},
   "outputs": [],
   "source": [
    "#practice---------------------------------------"
   ]
  },
  {
   "cell_type": "code",
   "execution_count": 167,
   "metadata": {},
   "outputs": [],
   "source": []
  },
  {
   "cell_type": "code",

   "metadata": {},
   "outputs": [
    {
     "data": {
      "text/plain": [
       "PassengerId                  1044\n",
       "Pclass                          3\n",
       "Name           Storey, Mr. Thomas\n",
       "Sex                          male\n",
       "Age                          55.5\n",
       "SibSp                           0\n",
       "Parch                           0\n",
       "Ticket                       3701\n",
       "Fare                       7.8958\n",
       "Cabin                         NaN\n",
       "Embarked                        S\n",
       "Name: 152, dtype: object"
      ]
     },
     "execution_count": 19,
     "metadata": {},
     "output_type": "execute_result"
    }
   ],
   "source": [
    "# Replace Mr Thomas' fare with the median value\n",
    "test_data.loc[test_data['Fare'].isnull(), 'Fare'] = fare_filt\n",
    "titanic_all.loc[titanic_all['Fare'].isnull(), 'Fare'] = fare_filt\n",
    "\n",
    "#Verify it has been replace\n",
    "test_data.iloc[152,:]"
   ]
  },
  {
   "cell_type": "code",

   "metadata": {},
   "outputs": [
    {
     "data": {
      "text/plain": [
       "PassengerId      0\n",
       "Pclass           0\n",
       "Name             0\n",
       "Sex              0\n",
       "Age              0\n",
       "SibSp            0\n",
       "Parch            0\n",
       "Ticket           0\n",
       "Fare             0\n",
       "Cabin          327\n",
       "Embarked         0\n",
       "dtype: int64"
      ]
     },
     "execution_count": 20,
     "metadata": {},
     "output_type": "execute_result"
    }
   ],
   "source": [
    "#Verify fare has been replaced\n",
    "test_data.isnull().sum()"
   ]
  },
  {
   "cell_type": "code",

   "metadata": {},
   "outputs": [
    {
     "data": {
      "text/plain": [
       "Age               0\n",
       "Cabin          1014\n",
       "Embarked          2\n",
       "Fare              0\n",
       "Name              0\n",
       "Parch             0\n",
       "PassengerId       0\n",
       "Pclass            0\n",
       "Sex               0\n",
       "SibSp             0\n",
       "Survived        418\n",
       "Ticket            0\n",
       "dtype: int64"
      ]
     },
     "execution_count": 21,
     "metadata": {},
     "output_type": "execute_result"
    }
   ],
   "source": [
    "# And replaced in the concated data as well\n",
    "titanic_all.isnull().sum()"
   ]
  },
  {
   "cell_type": "markdown",
   "metadata": {},
   "source": [
    "## Overall Age distributions"
   ]
  },
  {
   "cell_type": "code",
   "execution_count": 22,
   "metadata": {},
   "outputs": [
    {
     "data": {
      "text/plain": [
       "Text(0.5, 1.0, 'Overall Age Distribution')"
      ]
     },
     "execution_count": 22,
     "metadata": {},
     "output_type": "execute_result"
    },
    {
     "data": {
      "image/png": "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\n",
      "text/plain": [
       "<Figure size 432x288 with 1 Axes>"
      ]
     },
     "metadata": {
      "needs_background": "light"
     },
     "output_type": "display_data"
    }
   ],
   "source": [
    "plt.hist(titanic_all[\"Age\"], edgecolor='black')\n",
    "\n",
    "plt.grid(axis='y', linestyle = '--')\n",
    "\n",
    "plt.xlabel('Age')\n",
    "plt.ylabel('Number of Passengers')\n",
    "plt.title('Overall Age Distribution')"
   ]
  },
  {
   "cell_type": "markdown",
   "metadata": {},
   "source": [
    "## Age Distribution per class"
   ]
  },
  {
   "cell_type": "code",
   "execution_count": 23,
   "metadata": {},
   "outputs": [],
   "source": [
    "class_1 = titanic_all[titanic_all['Pclass'] == 1]\n",
    "class_2 = titanic_all[titanic_all['Pclass'] == 2]\n",
    "class_3 = titanic_all[titanic_all['Pclass'] == 3]\n",
    "\n",
    "plt.rc('axes', titlesize=14) #fontsize of the titles\n",
    "plt.rc('axes', labelsize=12) #fontsize of the x and y labels"
   ]
  },
  {
   "cell_type": "code",
   "execution_count": 24,
   "metadata": {},
   "outputs": [
    {
     "data": {
      "text/plain": [
       "Text(0.5, 1.0, 'First Class')"
      ]
     },
     "execution_count": 24,
     "metadata": {},
     "output_type": "execute_result"
    },
    {
     "data": {
      "image/png": "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\n",
      "text/plain": [
       "<Figure size 432x288 with 1 Axes>"
      ]
     },
     "metadata": {
      "needs_background": "light"
     },
     "output_type": "display_data"
    }
   ],
   "source": [
    "plt.hist(class_1[\"Age\"], edgecolor='black', color='steelblue')\n",
    "\n",
    "plt.grid(axis='y', linestyle = '--')\n",
    "\n",
    "plt.xlabel('Age')\n",
    "plt.ylabel('Number of Passengers')\n",
    "plt.title(\"First Class\")"
   ]
  },
  {
   "cell_type": "code",
   "execution_count": 25,
   "metadata": {},
   "outputs": [
    {
     "data": {
      "text/plain": [
       "Text(0.5, 1.0, 'Second Class')"
      ]
     },
     "execution_count": 25,
     "metadata": {},
     "output_type": "execute_result"
    },
    {
     "data": {
      "image/png": "iVBORw0KGgoAAAANSUhEUgAAAYEAAAEaCAYAAAD3+OukAAAAOXRFWHRTb2Z0d2FyZQBNYXRwbG90bGliIHZlcnNpb24zLjMuMiwgaHR0cHM6Ly9tYXRwbG90bGliLm9yZy8vihELAAAACXBIWXMAAAsTAAALEwEAmpwYAAAu6UlEQVR4nO3dfXxV5Znv/89FggEkkQRICEkggCQU0Gi6a5oxBR8qY21HOy+1tUendFprbafT9nc8p7UdtR1tf8c66Jme6dO01co5MtWOD6N9GKtHCxgnpsbUKCBJgASSmAceoiECkYTr/LFW6p4IZAPZewf29/16rdfe615r7XXtvbL3lXXfa923uTsiIpKaJiQ7ABERSR4lARGRFKYkICKSwpQERERSmJKAiEgKUxIQEUlhSgIiY8zMImbmZlY8Bq/lZnbVGIQlclhKAjIumdlMM/uhmbWa2YCZdZvZM2Z2SbJjGytmtsDM7jWztvA9tprZw2b2Z8mOTVJHerIDEDmCR4ApwGeALUAusByYnsygxoqZRYBngNeALwCbgNOBDwP/BLw3edFJKtGZgIw7ZjYN+ABws7s/4+7b3f1Fd1/l7g9GrXeamX3XzNrN7C0ze9HM/nzEay0ysyfM7E0z6zezGjM7K1w2wcxujfpP/FUzuyJq2+KwOuZKM3vazPaZ2aaRZyNmdqmZbTazA2b2HFAyyvsz4H5gG3C+u//K3be6+yvu/j+Ai4+y7Z1m1mhm+8Mzh7vMbFLU8iIze9zM9oTxbjaza6KW32Zm28P322Vm//toscqpT0lAxqP+cLo8+gfuMH5OcHbwX4CzgNXAr8ysDMDMZgPVgAOXAOXAD4C0cPsvA/8d+Fq4/WPAo2Z2zoj9fAf4X0AZ8CLwoJlNDfdRBPwb8DRwDsF/8XeN8v7OAZYA/+DuQyMXuvsbR9n2LeDTwHsIziCuAf4uavkPCc6gLgz38RXgjTDWK4H/Fm63EPgI8IdRYpVTnbtr0jTuJuBKYA9wAKgBVgEVUcsXAIeAOSO2+zfgh+Hz7wDbgdOOsI8O4LYRZWuBB8LnxQQJ5HNRywvCsqpw/v8HmgCLWueWcJ3iI+z3Y+Hyc2P4HBy46ijLbwS2RM2/AnzzCOv+V6ARmJjs46tp/Ew6E5Bxyd0fAWYDfwH8O/BnwAtm9o1wlXLAgE1hNU+/mfUT1KkvCNc5F6h297dHvr6ZZYWv//yIRdXA4hFlr0Q9fz18zA0f3wO84O7RPTHWjPL2bJTlR97Q7Cozqw6rcvqB/wnMiVrle8AtYbXXt80sum3hX4FJQEvYIH21mWUcbyxyalASkHHL3Q+4+9Pufru7/xlwL/AtMzuN4G/XgfcRVK8MT+8hqC6B2H5sD9eN7siyg1ExDS8b/u4czw96U/j4nmPZyMzeDzwI/I4gOZ5LcNYxMSq+e4F5BFVlJcB/mNm3wmVtQCnwOaAPuBt4ycxOP473IKcIJQE5mWwiuKJtEvBHgh/gWe6+ZcTUEa5fD1SFSeM/cfc+gv/qq0Ysqgr3cywxVYSNvcPeP8o2L4fb/XczSxu5MGwYP5zzgQ53v8ODhvJmYO7Ildy93d1/4u4fA24DbohadsDdf+Pu/x9BAl0Svq6kKF0iKuOOmU0nqLq4j6AqZi8QAb4KPBP+gPeZ2RrgfjO7ieAHPwe4ANjm7o8SNJLeCPzSzL4D9BL88L3m7i8D/wDcbmbNwEvAdQRXJR3L5Zk/Bm4C/tHMfkjQwHzj0TZwdzezvwb+L/C8mX2b4FLRKcCHCNoMIofZtAkoMLNrCaqc/hz4RPQKZvY9guqzJiALuJQwqZnZpwi+87UEDe8fJzjLaT6G9yunmmQ3SmjSNHICMggaXF8k+OHeR/BDdQ+QE7XeROBbBJdavg10AU8A741aZwnwW4Ifvb3AfwBLw2UTgFuBtnD7V4GPRm1bTFA1FBkR339qrCVoh2gkaMR+HriWozQMR223kKDapj3c/w7gYeD9R9nX/wB2hu/nUeDzhLVU4fJ/Cj+rA+F6DwIF4bKPEiSPNwiuMnoR+Eiyj7em5E7mrpHFRERSldoERERSmJKAiEgKUxIQEUlhSgIiIinspLtEdMaMGV5cXJzsMERETiovvfTSLnefObL8pEsCxcXF1NXVJTsMEZGTipltP1y5qoNERFKYkoCISApTEhARSWFKAiIiKUxJQEQkhSkJiIikMCUBEZEUpiQgIpLClARERFKYkoCccuYWzsbMEj7NLZyd7LcucsxOum4jREazo6OTxlsXJ3y/pXccy9DEIuNDQs4EzKzUzF6OmvrM7CtmlmNmT5tZc/iYnYh4REQkkJAk4O6N7n6Ou59DMIj3PuAx4GaCgcMXAs+E8yIikiDJaBO4GNjq7tuBK4DVYflqgoGwRUQkQRI+0LyZ3QfUu/v3zewNd58WtazX3d9VJWRmNwA3AMyePfu9a9asAWD+/PlkZmbS0NAAwPTp01myZAnr168HID09naqqKurr6+nr6wMgEonQ3d1NW1sbAAsXLiQjI4MNGzYAkJubS0lJCdXV1QBkZGRQWVlJXV0d/f39AFRUVNDe3k5HRwcApaWlpKWlsWlTUCc8a9Ys5s2bR01NDQCTJ0+moqKC2tpa9u/fD0BlZSUtLS10dXUBsHjxYoaGhmhsbASgoKCAwsJCamtrAZg6dSqRSISamhoGBgYAqKqqoqmpiZ6eHgCWLl3KwMAAzc3NABQVFZGXl/enrrezsrIoLy+nurqawcFBAJYtW8bGjRvZvXs3AGVlZezdu5dt27YBQdfdOTk51NfXA5CdnU1ZWRnr1q3D3TEzli9fTkNDA729vQCUl5fzuc9eT+S8CgB+85vf0N7ezuc+9zkANm3axP33389dd90FwIEDB7jlllv40pe+xJw5cwC4++67KS8v58ILLwTgscceo7e3l09/+tMAvPzyyzz88MN8+9vfBqCvr4/bb7+dm266ifz8fJbmT6Jw6xr6cs6mL/ssAGZ0PosdGmRnwYrgM31zM9k7a2k7c2Xw93Kwj6KtD9C24DoGJ2YFn+GW1fTOrKD/jEUAzOx4Cp+Qzq78i4LPtPdVsva8QvuCa9nQeYDly5efVMdpz549tLa2Avo+nerHKTMz8yV3jzBCQpOAmZ0GvA4scffuWJNAtEgk4hpPYPwzs6Q0zkLQQJushuFE/1MlEiszO2wSSHR10IcIzgK6w/luM8sHCB97EhyPiEhKS3QS+ATwi6j5J4CV4fOVwOMJjkdEJKUlLAmY2RTgEuDRqOI7gUvMrDlcdmei4hERkQTeLObu+4DpI8p2E1wtJCIiSaBuI0REUpiSgIhIClMSEBFJYUoCIiIpTElARCSFKQmIiKQwJQERkRSmJCAiksKUBEREUpiSgIhIClMSEBFJYUoCIiIpTElARCSFKQmIiKQwJQERkRSmJCAiksKUBEREUpiSgIhIClMSEBFJYUoCIiIpLGFJwMymmdnDZrbZzF4zs0ozyzGzp82sOXzMTlQ8IiJynEnAzCab2WnHuNn3gCfdfRFQBrwG3Aw84+4LgWfCeRERSZCYkoCZrTKz88LnHwb2AG+Y2V/EuH0WsAy4F8Dd33b3N4ArgNXhaquBjx5L8CIicmLM3UdfyawTWODu+8ysFrgLeBP4n+5+VgzbnwP8BNhEcBbwEvBloMPdp0Wt1+vu76oSMrMbgBsAZs+e/d41a9YAMH/+fDIzM2loaABg+vTpLFmyhPXr1wOQnp5OVVUV9fX19PX1ARCJROju7qatrQ2AhQsXkpGRwYYNGwDIzc2lpKSE6upqADIyMqisrKSuro7+/n4AKioqaG9vp6OjA4DS0lLS0tLYtGkTALNmzWLevHnU1NQAMHnyZCoqKqitrWX//v0AVFZW0tLSQldXFwCLFy9maGiIxsZGAAoKCigsLKS2thaAqVOnEolEqKmpYWBgAICqqiqampro6ekBYOnSpQwMDNDc3AxAUVEReXl51NXVAZCVlUV5eTnV1dUMDg4CsGzZMjZu3Mju3bsBKCsrY+/evWzbtg2A4uJicnJyqK+vByA7O5uysjLWrVuHu2NmLF++nIaGBnp7ewEoLy/n6quv5r+uvDzYpqeGjAM76ZoTzE/pbyW3/UlaF90IwIRDB5nb9FNen3slA5Pzgvff8hD9WSW8Of3c4Nh2P0f6wb10F14GwOl9W5jRtZbtJdcDkDa4jzlb7qdj3jXU75nC0vxJFG5dQ1/O2fRlB3+iMzqfxQ4NsrNgRfCZvrmZ7J21tJ25Mvh7OdhH0dYHaFtwHYMTs4LPcMtqemdW0H/GIgBmdjyFT0hnV/5FwWfa+ypZe16hfcG1bOg8wPLly0+q47Rnzx5aW1sBfZ9O9eOUmZn5krtHGCHWJPCmu59hZtOBze4+Myzvc/esGLaPAC8A57t7rZl9D+gD/jaWJBAtEon48EGQ8cvMaLx1cVL2XXrHpqTsu/SOTcTyfRJJBjM7bBKItU2gycyuBb4IPB2+4Axgf4zbtwPt7l4bzj8MlAPdZpYfvl4+0BPj64mIyBiINQl8Afgb4ELg1rDsz4GnYtnY3buANjMrDYsuJqgaegJYGZatBB6PMR4RERkD6aOtYGZpwFnARe5+YLjc3dcAa45hX38LrAmvKtoG/DVBEvqlmX0G2AFcfQyvJyIiJ2jUJODuQ2Z2j7vfdyI7cveXgXfVRxGcFYiISBLEWh30q1gvBxURkZPHqGcCoUnAw2ZWA7QBf7oEwt0/GY/AREQk/mJNAhvCSURETiExJQF3//t4ByIiIokXc99BZnaJmd1rZr8K5yNmdlH8QhMRkXiLte+gvwV+BDQT9AEEwY1i345TXCIikgCxngl8Bfigu98JHArLNgOlR9xCRETGvViTQCbBVUHwzpVBE4G3xzwiERFJmFiTwHre3df/l4Dfj204IiKSSLFeIvq3BDeMfRbINLNGgl5AdQOZiMhJLNZLRDvN7H3AecAcgqqhP7j7oaNvKSIi41msZwJ40FF6bTiJiMgpIKYkYGb/qauIKAMEYwU8CvzI3QfHMDYREYmzWM8E/hdwXfjYRlAl9DfAvxKMN3wTUAR8NQ4xiohInMSaBD4FXOLurw8XmNm/A0+5+xIz+z3wf1ESEBE5qcR6iWg+0D+i7C1gdvi8CZg2RjGJiEiCxDyeAPC4mX3QzBaZ2QeBR8JygEqgNQ7xiYhIHMWaBD5HcFXQPwN/BH4CvAjcGC7fBnx4zKMTEZG4ivU+gQMEdwyPvGt4eHnXWAYlIiKJEfN9AmZWCpQBU6PLT3TsYRERSZ5Y7xP4BnAb0ADsi1rkQExJwMxagb3AEDDo7hEzywEeAooJ2hQ+5u69McYuIiInKNYzga8A57n7Kye4vwvdfVfU/M3AM+5+p5kNVzd97QT3ISIiMYq1YXg/wfgBY+0KYHX4fDXw0TjsQ0REjiDWM4FbgX8ys28B3dELjqETOQeeMjMH/tndfwLkuXtn+DqdZpZ7uA3N7AbgBoDZs2ezdu1aAObPn09mZiYNDQ0ATJ8+nSVLlrB+/frgzaWnU1VVRX19PX19fQBEIhG6u7tpawuGR1i4cCEZGRls2LABgNzcXEpKSqiurgYgIyODyspK6urq6O8PbpWoqKigvb2djo4OAEpLS0lLS2PTpk0AzJo1i3nz5lFTUwPA5MmTqaiooLa2lv379wNQWVlJS0sLXV1Bm/rixYsZGhqisbERgIKCAgoLC6mtDbpqmjp1KpFIhJqaGgYGBgCoqqqiqamJnp4eAJYuXcrAwADNzc0AFBUVkZeXR11dHQBZWVmUl5dTXV3N4GDQw8eyZcvYuHEju3fvBqCsrIy9e/eybds2AIqLi8nJyaG+vh6A7OxsysrKWLduHe6OmbF8+XIaGhro7Q1q8srLy1mxYgUtiy4PtumpIePATrrmBPNT+lvJbX+S1kXBxWUTDh1kbtNPeX3ulQxMzgvef8tD9GeV8Ob0c4Nj2/0c6Qf30l14GQCn921hRtdatpdcD0Da4D7mbLmfjnnXsGrVFFryJ1G4dQ19OWfTl30WADM6n8UODbKzYEXwmb65meydtbSduTL4eznYR9HWB2hbcB2DE7OCz3DLanpnVtB/xiIAZnY8hU9IZ1d+MLJqVu+rZO15hfYF17Jq1QHq6upOquO0Z88eWltbAX2fTvXjdCQW9At3dGY2/EMfvbIR9CuXNuoLBK8x291fD3/onybonvoJd58WtU6vu2cf7XUikYgPHwQZv8yMxlsXJ2XfpXdsSsq+S+/YRCzfJ5FkMLOX3P1d2SDWM4F5JxrAcJcT7t5jZo8RdEvdbWb54VlAPtBzovsREZHYxdQm4O7b3X07Qedxbw/Ph2WjMrPTzSxz+DmwAtgAPAGsDFdbCTx+rG9ARESOX0xJwMymmdm/AAeALWHZ5Wb27Rj3kwdUm1kD8AfgN+7+JHAncImZNQOXhPMiIpIgsVYH/RjoBeYCm8KyGuBu4JbRNnb3bQQ3mo0s3w1cHGMMIiIyxmJNAhcDs939YHh1D+6+80hX84iIyMkh1vsE3gRmRBeY2Rygc8wjEhGRhIk1CfwMeMTMLgQmmFklwc1dP45bZCIiEnexVgd9l6BR+AfARIL+gv4Z+F6c4hIRkQSItStpB/4xnERE5BQR6yWiF5rZvPD5LDNbbWb3mdms+IYnIiLxFGubwA8JuoAGuIegSsgJRhgTEZGTVKxtAgXuvsPM0oE/J7hf4G3g9bhFJiIicRdrEugzszxgKbDJ3fvN7DSCMwIRETlJxZoE/olgYPnTCAaYATif+IwxICIiCRLr1UHfDXv+HHL3rWFxB3B93CITEZG4i3mgeXdvGn4e3jQ25O7r4xKViIgkRKyXiK4zs/PD518DHgR+EQ5ALyIiJ6lYLxFdCrwQPv8scAHwfuDGOMQkIiIJEmt10ATAzWwBwZCUrwGY2VGHghQRkfEt1iRQDXwfyAceAwgTwq44xSUiIgkQa3XQp4A3gFeAb4Vli1AHciIiJ7VYLxHdDXxjRNlv4hKRiIgkTMyXiJrZOcAHCAaXseFyd79t7MMSEZFEiPUS0RuA54GLgK8BZwE3AWfGLzQREYm3WNsEvgpc6u5/CewPH68CDh7Lzswszcz+aGa/DudzzOxpM2sOH3W1kYhIAsWaBHLd/bnw+SEzm+Du/w78xTHu78vAa1HzNwPPuPtC4JlwXkREEiTWJNA+PKgM0ARcYWYfIOhOOiZmVgh8mGC84mFXEIxVTPj40VhfT0RETlysDcN3EVwS2gLcDjxM0KPol45hX/9IUK2UGVWW5+6dAO7eaWa5h9swbJO4AWD27NmsXbsWgPnz55OZmUlDQwMA06dPZ8mSJaxfH3RplJ6eTlVVFfX19fT19QEQiUTo7u6mra0NgIULF5KRkcGGDRsAyM3NpaSkhOrqagAyMjKorKykrq6O/v5+ACoqKmhvb6ejowOA0tJS0tLS2LRpEwCzZs1i3rx51NTUADB58mQqKiqora1l//79AFRWVtLS0kJXVxcAixcvZmhoiMbGRgAKCgooLCyktrYWgKlTpxKJRKipqWFgYACAqqoqmpqa6OnpAWDp0qUMDAzQ3NwMQFFREXl5edTV1QGQlZVFeXk51dXVDA4OArBs2TI2btzI7t27ASgrK2Pv3r1s27YNgOLiYnJycqivrwcgOzubsrIy1q1bh7tjZixfvpyGhgZ6e3sBKC8vZ8WKFbQsujzYpqeGjAM76ZoTzE/pbyW3/UlaFwU3nE84dJC5TT/l9blXMjA5L3j/LQ/Rn1XCm9PPDY5t93OkH9xLd+FlAJzet4UZXWvZXhL0YZg2uI85W+6nY941rFo1hZb8SRRuXUNfztn0ZZ8FwIzOZ7FDg+wsWBF8pm9uJntnLW1nrgz+Xg72UbT1AdoWXMfgxKzgM9yymt6ZFfSfsQiAmR1P4RPS2ZV/UfCZ9r5K1p5XaF9wLatWHaCuru6kOk579uyhtbUV0PfpVD9OR2LB8MFHZmbTgPlAs7vvDctOA05z9/6jbvzOa3wEuMzdv2BmFwD/zd0/YmZvuPu0qPV63f2o7QKRSMSHD4KMX2ZG462Lk7Lv0js2JWXfpXdsYrTvk0iymNlL7v6ubHDU6iAz+zBBl9F1BFVCFwK4+9uxJoDQ+cDlZtZK0PncRWb2ANBtZvnhvvKBnmN4TREROUGjtQncQXBJ6FTgNuA7x7MTd/+6uxe6ezFwDfCsu18HPAGsDFdbCTx+PK8vIiLHZ7QkMN/dv+/u+4AfMPb3BdwJXGJmzcAl4byIiCTIaA3Df0oS7j4YDjR/Qtx9LbA2fL4buPhEX1NERI7PaD/qU8wsevSwzBHzuPuysQ9LREQSYbQk8JkR8/fGKxAREUm8oyYBd199tOUiInJyi/WOYREROQUpCYiIpLATvtpHxre5hbPZ0dGZ7DBEZJw6YhIwsxfc/f3h82+6+98nLiwZKzs6OpPWhYKIjH9Hqw4qMbNJ4fObEhGMiIgk1tGqgx4HmsL+fiaPvD9gmO4TEBE5eR0xCbj7X5tZFVAMvA/dIyAicsoZ7T6BaqDazE7TPQMiIqeemK4Ocvf7wm6k/wooIOhe+gF3fzaewYmISHzFdJ+AmV0PPAR0AY8CncC/mNln4xibiIjEWaz3CXwVuMTdG4YLzOwh4BHgp/EITERE4i/WO4anAyMv/G4EcsY2HBERSaRYk0A1cI+ZTQEws9OBfwD+I16BiYhI/MWaBG4EzgbeNLNu4A2gDPhcnOISEZEEiPXqoE5guZkVArOB1929Pa6RiZxkTkszzCwp+55TkM/29teTsm85uR1TB3LhD79+/EUO4+0hT0o/TaC+muT4JaQraTObZGZ/MLMGM9toZn8flueY2dNm1hw+ZiciHhERCSRqPIEB4CJ3LwPOAS41s/cDNwPPuPtC4JlwXkREEmTUJGBmE8zsIjM77Xh34oH+cHZiODlwBTDcHcVq4KPHuw8RETl2oyYBdz8EPO7ub5/IjswszcxeBnqAp929FsgLG52HG59zT2QfIiJybGJtGF5vZu939xeOd0fuPgScY2bTgMfMbGms25rZDcANALNnz2bt2rUAzJ8/n8zMTBoaghuZp0+fzpIlS1i/Puj1Oj09naqqKurr6+nr6wMgEonQ3d1NW1sbAAsXLiQjI4MNGzYAkJubS0lJCdXV1QBkZGRQWVlJXV0d/f3ByUxFRQXt7e10dHQAUFpaSlpaGps2BY1zs2bNYt68edTU1AAwefJkKioqqK2tZf/+/QBUVlbS0tJCV1cXAIsXL2ZoaIjGxkYACgoKKCwspLa2FoCpU6cSiUSoqalhYGAAgKqqKpqamujp6QFg6dKlDAwM0NzcDEBRURH5+fm0LPpC8F72dzN7+yNsL/kshyZMBKB484/pKbyUfVOLg9h3PMHApJn05lYCMG3Xi0zu30Fn8ZUATNrXQf6Ox2lZ9HnAAGfe5h/ROecKDkwpACC/9RFWrCikZdHlAGT31JBxYCddc4L5Kf2t5LY/SeuiGwGYcOggc5t+yutzr2Rgcl7w/lseoj+rhDennxsc2+7nSD+4l+7CywA4vW8LM7rWsr3kegDSBvcxZ8v9dMy7hlWrptCSP4nCrWvoyzmbvuyzAJjR+Sx2aJCdBSuCz/TNzWTvrKXtzJXB38vBPoq2PkDbgusYnJgVfIZbVtM7s4L+MxYBMLPjKXxCOrvyLwIgq/dVsva8QvuCa1m16gAdOfsoaHmQHWd+iqH0KQDMbfoZu2ZdwFtZZwKQ1/5bBidmsjvvAwCcsfuPTO1romPex4/7OK1Y8QR9fX3U19cHn3l2NmVlZaxbtw53x8xYvnw5DQ0N9Pb2AlBeXs6ePXtobW0F9H2K5fuUl5dHXV1dcOyzsigvL6e6uprBwUEAli1bxsaNG9m9ezcAZWVl7N27l23btgXHsbiYnJycpBynIzF3P+LCP61k9kPgEwRjDLQRVOUA4O63jfoC7369bwJvAZ8FLnD3TjPLB9a6e+nRto1EIj58EGR0Zpa0kcWSeaVMKr7nWL7LkrrM7CV3f1c2iLVheDLwbwQ//oVAUdQUy85nhmcAmNlk4IPAZuAJYGW42kqCJCMiIgkS681if32C+8kHVptZGkHi+aW7/9rMaoBfmtlngB3A1Se4HxEROQYx3yxmZu8BriJozP2imZUCGe7+ymjbhuuce5jy3cDFxxCviIiMoVjHE7gaWE8woMwnw+JM4J44xSUiIgkQa5vA7QTjCdwIDIVlDQSdyImIyEkq1iSQS/CjD+9cGeRRz0VE5CQUaxJ4iWB84WjXAH8Y23BERCSRYm0Y/hLwVHgVz+lm9jugBFgRt8hERCTuYr1EdLOZLQI+Avya4IaxX0f1ByQiIiehmC8Rdfd9ZvY80EIwqIwSgIjISS7WS0TnmNlzQCvwG6DVzKrNbG48gxMRkfiKtWF4NUHj8DR3zwWygRd5pxtoERE5CcVaHfReYIW7HwRw934z+xqwO26RiYhI3MV6JvACcN6IsghQM7bhiIhIIh3xTMDMbo+a3Qr81sx+Q3BlUBFwGfAv8Q1PRETi6WjVQSO7iX40fMwlGDP4MWBSPIISEZHEOGISGIPuo0VEZJw7lq6kpwBnAlOjy939P8Y6KBERSYyYkoCZfRL4PvA2sD9qkQNz4hCXiIgkQKxnAncBV7r70/EMRkREEivWS0TfBtbGMQ4REUmCWJPArcA9ZjYjnsGIiEhixZoEmoDLgW4zGwqnQ2Y2NNqGIiIyfsWaBP4P8L8JhpMsCaeF4eOozKzIzH5vZq+Z2UYz+3JYnmNmT5tZc/iYfRzvQUREjlOsDcPTgdvc/XiHkxwEbnL3ejPLBF4ys6eBTwHPuPudZnYzcDPwtePch4iIHKNYzwR+zruHl4yZu3e6e334fC/wGlAAXME7PZGuBj56vPsQEZFjF+uZwHnAF83s74Du6AXuvuxYdmhmxcC5QC2Q5+6d4et0mlnuEba5AbgBYPbs2axduxaA+fPnk5mZSUNDAwDTp09nyZIlrF+/Pnhz6elUVVVRX19PX18fAJFIhO7ubtra2gBYuHAhGRkZbNiwAYDc3FxKSkqorq4GICMjg8rKSurq6ujvD8bRqaiooL29nY6ODgBKS0tJS0tj06ZNAMyaNYt58+ZRUxP0rzd58mQqKiqora1l//7gNovKykpaWlro6uoCYPHixQwNDdHY2AhAQUEBhYWF1NbWAjB16lQikQg1NTUMDAwAUFVVRVNTEz09PQAsXbqUgYEBmpubASgqKiI/P5+WRV8I3sv+bmZvf4TtJZ/l0ISJABRv/jE9hZeyb2pxEPuOJxiYNJPe3EoApu16kcn9O+gsvhKASfs6yN/xOC2LPg8Y4Mzb/CM651zBgSkFAOS3PsKKFYW0LLocgOyeGjIO7KRrTjA/pb+V3PYnaV10IwATDh1kbtNPeX3ulQxMzgvef8tD9GeV8Ob0c4Nj2/0c6Qf30l14GQCn921hRtdatpdcD0Da4D7mbLmfjnnXsGrVFFryJ1G4dQ19OWfTl30WADM6n8UODbKzIBgVdeqbm8neWUvbmSuDv5eDfRRtfYC2BdcxODEr+Ay3rKZ3ZgX9ZywCYGbHU/iEdHblXwRAVu+rZO15hfYF17Jq1QE6cvZR0PIgO878FEPpUwCY2/Qzds26gLeyzgQgr/23DE7MZHfeBwA4Y/cfmdrXRMe8jx/3cVqx4gn6+vqor68PPvPsbMrKyli3bh3ujpmxfPlyGhoa6O3tBaC8vJw9e/bQ2toK6PsUy/cpLy+Purq64NhnZVFeXk51dTWDg4MALFu2jI0bN7J7d9DBcllZGXv37mXbtm3BcSwuJicnJynH6UgslhoeM1t5pGXuHvOYAmY2FVgHfMfdHzWzN9x9WtTyXnc/artAJBLx4YMgozMzGm9dnPD9lt6xKSn7Tea+k/2ej7+2VlKBmb3k7u/KBrGOMXzCg8eY2UTgEWCNuw93RtdtZvnhWUA+0HOi+xERkdjF2m3Ep4+0zN3vi2F7A+4FXnP3e6IWPQGsBO4MHx+PJR4RERkbsbYJjGwUngUsAJ4HRk0CwPnha7xqZi+HZd8g+PH/pZl9BtgBXB1jPCIiMgZirQ66cGRZeHbwnhi3ryZoRTyci2N5DRERGXuxXiJ6OPcDnxmjOBJibuFszCwp09zC2cl++yIi7xJrm8DIZDEFuA54Y6wDiqcdHZ1JvXpDRGS8ibVNYJBg7IBoHcBnxzYcERFJpFiTwLwR82+5+66xDkZERBIr1obh7fEOREREEu+oScDMfs+7q4Giubvr6h4RkZPUaGcCDxyhvAD4EkEDsYiInKSOmgTc/d7oeTObDnydoEH4IeD2+IUmIiLxFtN9AmaWZWZ3AFuAPKDc3W9w9/a4RiciInF11CRgZpPN7OvANoK7g6vc/a/cfWtCohORmJyWppsg5fiM1ibQAqQBdwF1QJ6Z5UWv4O7Pxik2EYnR20OetO6z5eQ2WhI4QHB10OePsNyB+WMakYiIJMxoDcPFCYpDRESS4EQ6kBMRkZNcrN1GiIi8y3CDdDLMKchne/vrSdn3qURJQESOW7IapEGN0mNF1UEiIilMSUBEJIUpCYiIpDAlARGRFJaQJGBm95lZj5ltiCrLMbOnzaw5fMxORCwiIvKORJ0J3A9cOqLsZuAZd18IPBPOi4hIAiUkCbj7emDPiOIrgNXh89XARxMRi4iIvCOZ9wnkuXsngLt3mlnukVY0sxuAGwBmz57N2rVrAZg/fz6ZmZk0NDQAMH36dJYsWcL69esBSE9Pp6qqivr6evr6+li1ahVvH3ic/qwS3px+brBN93OkH9xLd+FlAJzet4UZXWvZXnI9AGmD+5iz5X465l3D2xk5ABRuXUNfztn0ZZ8FwIzOZ7FDg+wsWAHA1Dc3k72zlrYzVwZxHOwDvkFtbS379+8HoLKykpaWFrq6ugBYvHgxQ0NDNDY2AlBQUEBhYSG1tbXBa06dSiQSoaamhoGBAQCqqqpoamqip6cHgKVLlzIwMEBzczMARUVF5Ofn07LoCwBk7O9m9vZH2F7yWQ5NmAhA8eYf01N4KfumFgMwa8cTDEyaSW9uJQDTdr3I5P4ddBZfCcCkfR3k73iclkWfBwxw5m3+EZ1zruDAlAIA8lsfYcWKQloWXQ5Adk8NGQd20jUnmJ/S30pu+5O0LroRgAmHDjK36ae8PvdKBiYH/RMWtDx03Mdp1aoptORPOq7jVLT1AdoWXMfgxKzgM9yymt6ZFfSfsQiAmR1P4RPS2ZV/EQBZva+StecV2hdcy6pVB+jI2UdBy4PsOPNTDKUHYy7NbfoZu2ZdwFtZZwKQ1/5bBidmsjvvAwCcsfuPTO1romPex4/7OK1Y8QQHJh085uO0f+oc3pjxvuM+Tvn532HPzMqEf5+Ktj7A333j69x9990A3H777XzoQx/ife8L3ssDDzzAxIkT+fjHg8/0+eef57nnnuPmm4MKh87OTu6++25uu+02srKCY33LLbdw1VVXcc455wBw3333kZ2dzV/+5V8C8Pvf/576+nq+fvPNnHX22WRlZVFeXk51dTWDg4MALFu2jI0bN7J7924AysrK2Lt3L9u2bQuOY3ExOTk51NfXB595djZlZWWsW7cOd8fMWL58OQ0NDfT29gJQXl7Onj17aG1tBY79dw8gEolwJOZ+tNEjx46ZFQO/dvel4fwb7j4tanmvu4/aLhCJRLyuru54Y0jqjS2J+qyjJes9l96xKamftd7zqb3fZO47Wd/lE2VmL7n7u7JBMq8O6jazfIDwsSeJsYiIpKRkJoEngJXh85XA40mMJe6SNeiHiMjRJKRNwMx+AVwAzDCzduCbwJ3AL83sM8AO4OpExJIsGvRDRMajhCQBd//EERZdnIj9i4jI4emOYRGRFKYkICKSwpQERERSmJKAiEgKUxIQEUlhSgIiIilMSUBEJIUpCYiIpDAlARGRFKYkICKSwpQERERSmJKAiEgKUxIQEUlhSgIiIilMSUBEJIUpCYiIpDAlARGRFJaQkcVERE4Vw+OFJ8Ocgny2t78+pq+pJCAicgySNV44xGfMcFUHiYiksKQnATO71MwazWyLmd2c7HhERFJJUpOAmaUBPwA+BCwGPmFmyTnPEhFJQck+EzgP2OLu29z9beBB4IokxyQikjLM3ZO3c7OrgEvd/fpw/q+ACnf/4oj1bgBuCGdLgcZj2M0MYNcYhJsoije+FG98Kd74OpF457r7zJGFyb466HDXWb0rK7n7T4CfHNcOzOrcPXI82yaD4o0vxRtfije+4hFvsquD2oGiqPlCYGwvghURkSNKdhJ4EVhoZvPM7DTgGuCJJMckIpIyklod5O6DZvZF4HdAGnCfu28c490cVzVSEine+FK88aV442vM401qw7CIiCRXsquDREQkiZQERERS2CmdBMZ7lxRmdp+Z9ZjZhqiyHDN72syaw8fsZMY4zMyKzOz3ZvaamW00sy+H5eM13klm9gczawjj/fuwfFzGO8zM0szsj2b263B+3MZrZq1m9qqZvWxmdWHZeI53mpk9bGabw7/jyvEar5mVhp/r8NRnZl+JR7ynbBI4SbqkuB+4dETZzcAz7r4QeCacHw8GgZvc/T3A+4G/CT/P8RrvAHCRu5cB5wCXmtn7Gb/xDvsy8FrU/HiP90J3Pyfq2vXxHO/3gCfdfRFQRvA5j8t43b0x/FzPAd4L7AMeIx7xuvspOQGVwO+i5r8OfD3ZcR0mzmJgQ9R8I5AfPs8HGpMd4xHifhy45GSIF5gC1AMV4zlegvtkngEuAn493v8egFZgxoiycRkvkAW0EF4MM97jHRHjCuD5eMV7yp4JAAVAW9R8e1g23uW5eydA+Jib5HjexcyKgXOBWsZxvGHVystAD/C0u4/reIF/BL4KHIoqG8/xOvCUmb0Udu0C4zfe+cBO4OdhddvPzOx0xm+80a4BfhE+H/N4T+UkEFOXFHJszGwq8AjwFXfvS3Y8R+PuQx6cThcC55nZ0iSHdERm9hGgx91fSnYsx+B8dy8nqHL9GzNbluyAjiIdKAd+5O7nAm8xTqp+jia8ifZy4F/jtY9TOQmcrF1SdJtZPkD42JPkeP7EzCYSJIA17v5oWDxu4x3m7m8AawnaX8ZrvOcDl5tZK0FvuheZ2QOM33hx99fDxx6C+urzGL/xtgPt4dkgwMMESWG8xjvsQ0C9u3eH82Me76mcBE7WLimeAFaGz1cS1L0nnZkZcC/wmrvfE7VovMY708ymhc8nAx8ENjNO43X3r7t7obsXE/ytPuvu1zFO4zWz080sc/g5Qb31BsZpvO7eBbSZWWlYdDGwiXEab5RP8E5VEMQj3mQ3esS5QeUyoAnYCvxdsuM5THy/ADqBgwT/qXwGmE7QONgcPuYkO84w1iqC6rRXgJfD6bJxHO/ZwB/DeDcAt4Xl4zLeEbFfwDsNw+MyXoI69oZw2jj8/Rqv8YaxnQPUhX8T/wZkj/N4pwC7gTOiysY8XnUbISKSwk7l6iARERmFkoCISApTEhARSWFKAiIiKUxJQEQkhSkJiIikMCUBkRiZ2Voz6zWzjGTHIjJWlAREYhB2mvcBghvmLk9uNCJjR0lAJDafBF4gGANi+LZ9zGy6mf0qHPTjRTP7tplVRy1fFA7+sceCAY4+lvjQRY4sPdkBiJwkPgncQ9B99gtmludBp14/IOiRchbB2BC/A7bDn/rUeRq4jaAjsLMJul7e6O4bE/4ORA5DZwIiozCzKmAu8EsPunreCvyXcPS6K4Fvuvs+d98ErI7a9CNAq7v/3N0H3b2eoBfWqxL8FkSOSElAZHQrgafcfVc4/y9h2UyCs+nowYuin88FKszsjeEJuJbgrEFkXFB1kMhRhN1QfwxIM7OusDgDmAbkEYy9XEjQWy385zEs2oB17n5JYqIVOXbqRVTkKMzsEwT1/ucAb0ct+iXBmBWFwBBwPTAHeArY4e5VYX/7G4BbCAaKIXydfnePHkxeJGlUHSRydCuBn7v7DnfvGp6A7xNU7XwROAPoAv4PwRgRAwDuvpdgsJVrCEa16wK+S3AmITIu6ExAZAyZ2XeBWe6+ctSVRcYBnQmInIDwPoCzLXAewehwjyU7LpFYqWFY5MRkElQBzSYY9Ptuxt84tSJHpOogEZEUpuogEZEUpiQgIpLClARERFKYkoCISApTEhARSWH/D7WyhU00zWWrAAAAAElFTkSuQmCC\n",
      "text/plain": [
       "<Figure size 432x288 with 1 Axes>"
      ]
     },
     "metadata": {
      "needs_background": "light"
     },
     "output_type": "display_data"
    }
   ],
   "source": [
    "plt.hist(class_2[\"Age\"], edgecolor='black', color='#d97d2a')\n",
    "\n",
    "plt.grid(axis='y', linestyle = '--')\n",
    "\n",
    "plt.xlabel('Age')\n",
    "plt.ylabel('Number of Passengers')\n",
    "plt.title(\"Second Class\")"
   ]
  },
  {
   "cell_type": "code",
   "execution_count": 26,
   "metadata": {},
   "outputs": [
    {
     "data": {
      "text/plain": [
       "Text(0.5, 1.0, 'Third Class')"
      ]
     },
     "execution_count": 26,
     "metadata": {},
     "output_type": "execute_result"
    },
    {
     "data": {
      "image/png": "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\n",
      "text/plain": [
       "<Figure size 432x288 with 1 Axes>"
      ]
     },
     "metadata": {
      "needs_background": "light"
     },
     "output_type": "display_data"
    }
   ],
   "source": [
    "plt.hist(class_3[\"Age\"], edgecolor='black', color='#07a623')\n",
    "\n",
    "plt.grid(axis='y', linestyle = '--')\n",
    "\n",
    "plt.xlabel('Age')\n",
    "plt.ylabel('Number of Passengers')\n",
    "plt.title(\"Third Class\")"
   ]
  },
  {
   "cell_type": "code",
   "execution_count": 27,
   "metadata": {},
   "outputs": [
    {
     "data": {
      "text/plain": [
       "Text(0.5, 1.0, 'Class Distribution')"
      ]
     },
     "execution_count": 27,
     "metadata": {},
     "output_type": "execute_result"
    },
    {
     "data": {
      "image/png": "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\n",
      "text/plain": [
       "<Figure size 432x288 with 1 Axes>"
      ]
     },
     "metadata": {
      "needs_background": "light"
     },
     "output_type": "display_data"
    }
   ],
   "source": [
    "#Majority of passengers were Third Class\n",
    "sns.countplot(x='Pclass', data=titanic_all)\n",
    "\n",
    "plt.grid(axis='y', linestyle = '--')\n",
    "\n",
    "plt.xlabel('Passenger Class')\n",
    "plt.ylabel('Number of Passengers')\n",
    "plt.title(\"Class Distribution\")"
   ]
  },
  {
   "cell_type": "markdown",
   "metadata": {},
   "source": [
    "## Survival Distributions in training data"
   ]
  },
  {
   "cell_type": "code",
   "execution_count": 28,
   "metadata": {},
   "outputs": [
    {
     "data": {
      "text/plain": [
       "Text(0.5, 1.0, 'Survival Distribution')"
      ]
     },
     "execution_count": 28,
     "metadata": {},
     "output_type": "execute_result"
    },
    {
     "data": {
      "image/png": "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\n",
      "text/plain": [
       "<Figure size 288x216 with 1 Axes>"
      ]
     },
     "metadata": {
      "needs_background": "light"
     },
     "output_type": "display_data"
    }
   ],
   "source": [
    "# from the training data: how many survived\n",
    "survivedGroup = train_data.groupby('Survived').size()\n",
    "\n",
    "ax1 = survivedGroup.plot(kind='bar', figsize=(4,3))\n",
    "\n",
    "ax1.set_xticklabels(['No','Yes'])\n",
    "plt.xticks(rotation='horizontal', fontsize=14)\n",
    "plt.grid(axis='y', linestyle = '--')\n",
    "\n",
    "plt.xlabel('Survived',fontsize=14)\n",
    "plt.ylabel('Number of Passengers', fontsize=14)\n",
    "plt.title(\"Survival Distribution\")"
   ]
  },
  {
   "cell_type": "code",
   "execution_count": 29,
   "metadata": {},
   "outputs": [
    {
     "data": {
      "text/html": [
       "<div>\n",
       "<style scoped>\n",
       "    .dataframe tbody tr th:only-of-type {\n",
       "        vertical-align: middle;\n",
       "    }\n",
       "\n",
       "    .dataframe tbody tr th {\n",
       "        vertical-align: top;\n",
       "    }\n",
       "\n",
       "    .dataframe thead th {\n",
       "        text-align: right;\n",
       "    }\n",
       "</style>\n",
       "<table border=\"1\" class=\"dataframe\">\n",
       "  <thead>\n",
       "    <tr style=\"text-align: right;\">\n",
       "      <th>Survived</th>\n",
       "      <th>0</th>\n",
       "      <th>1</th>\n",
       "    </tr>\n",
       "    <tr>\n",
       "      <th>Sex</th>\n",
       "      <th></th>\n",
       "      <th></th>\n",
       "    </tr>\n",
       "  </thead>\n",
       "  <tbody>\n",
       "    <tr>\n",
       "      <th>female</th>\n",
       "      <td>81</td>\n",
       "      <td>233</td>\n",
       "    </tr>\n",
       "    <tr>\n",
       "      <th>male</th>\n",
       "      <td>468</td>\n",
       "      <td>109</td>\n",
       "    </tr>\n",
       "  </tbody>\n",
       "</table>\n",
       "</div>"
      ],
      "text/plain": [
       "Survived    0    1\n",
       "Sex               \n",
       "female     81  233\n",
       "male      468  109"
      ]
     },
     "execution_count": 29,
     "metadata": {},
     "output_type": "execute_result"
    }
   ],
   "source": [
    "# Cross tablulation between two categorical variables\n",
    "CrossTabResult=pd.crosstab(index=train_data[\"Sex\"],columns=train_data[\"Survived\"])\n",
    "CrossTabResult"
   ]
  },
  {
   "cell_type": "code",
   "execution_count": 30,
   "metadata": {},
   "outputs": [
    {
     "data": {
      "text/plain": [
       "[Text(0, 0, 'Female'), Text(1, 0, 'Male')]"
      ]
     },
     "execution_count": 30,
     "metadata": {},
     "output_type": "execute_result"
    },
    {
     "data": {
      "image/png": "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\n",
      "text/plain": [
       "<Figure size 288x216 with 1 Axes>"
      ]
     },
     "metadata": {
      "needs_background": "light"
     },
     "output_type": "display_data"
    }
   ],
   "source": [
    "ax2 = CrossTabResult.plot(kind='bar', figsize=(4,3))\n",
    "plt.xticks(rotation='horizontal', fontsize=14)\n",
    "plt.xlabel('Sex',fontsize=14)\n",
    "plt.ylabel('Number of Passengers', fontsize=14)\n",
    "plt.legend(labels=(\"No\",\"Yes\"), loc=(1.02,.4))\n",
    "plt.title(\"Survival Distribution by Sex\")\n",
    "plt.grid(axis='y', linestyle = '--')\n",
    "ax2.set_xticklabels(['Female','Male'])"
   ]
  },
  {
   "cell_type": "code",
   "execution_count": 31,
   "metadata": {},
   "outputs": [
    {
     "data": {
      "text/html": [
       "<div>\n",
       "<style scoped>\n",
       "    .dataframe tbody tr th:only-of-type {\n",
       "        vertical-align: middle;\n",
       "    }\n",
       "\n",
       "    .dataframe tbody tr th {\n",
       "        vertical-align: top;\n",
       "    }\n",
       "\n",
       "    .dataframe thead th {\n",
       "        text-align: right;\n",
       "    }\n",
       "</style>\n",
       "<table border=\"1\" class=\"dataframe\">\n",
       "  <thead>\n",
       "    <tr style=\"text-align: right;\">\n",
       "      <th>Pclass</th>\n",
       "      <th>1</th>\n",
       "      <th>2</th>\n",
       "      <th>3</th>\n",
       "    </tr>\n",
       "    <tr>\n",
       "      <th>Survived</th>\n",
       "      <th></th>\n",
       "      <th></th>\n",
       "      <th></th>\n",
       "    </tr>\n",
       "  </thead>\n",
       "  <tbody>\n",
       "    <tr>\n",
       "      <th>0</th>\n",
       "      <td>80</td>\n",
       "      <td>97</td>\n",
       "      <td>372</td>\n",
       "    </tr>\n",
       "    <tr>\n",
       "      <th>1</th>\n",
       "      <td>136</td>\n",
       "      <td>87</td>\n",
       "      <td>119</td>\n",
       "    </tr>\n",
       "  </tbody>\n",
       "</table>\n",
       "</div>"
      ],
      "text/plain": [
       "Pclass      1   2    3\n",
       "Survived              \n",
       "0          80  97  372\n",
       "1         136  87  119"
      ]
     },
     "execution_count": 31,
     "metadata": {},
     "output_type": "execute_result"
    }
   ],
   "source": [
    "CrossTab2=pd.crosstab(index=train_data[\"Survived\"], columns=train_data['Pclass'])\n",
    "CrossTab2"
   ]
  },
  {
   "cell_type": "code",
   "execution_count": 32,
   "metadata": {},
   "outputs": [
    {
     "data": {
      "text/plain": [
       "[Text(0, 0, '0'), Text(1, 0, '1')]"
      ]
     },
     "execution_count": 32,
     "metadata": {},
     "output_type": "execute_result"
    },
    {
     "data": {
      "image/png": "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\n",
      "text/plain": [
       "<Figure size 288x216 with 1 Axes>"
      ]
     },
     "metadata": {
      "needs_background": "light"
     },
     "output_type": "display_data"
    }
   ],
   "source": [
    "ax2 = CrossTab2.plot(kind='bar', figsize=(4,3))\n",
    "plt.xticks(rotation='horizontal', fontsize=14)\n",
    "plt.xlabel('Survival',fontsize=14)\n",
    "plt.ylabel('Number of Passengers', fontsize=14)\n",
    "plt.legend(labels=(\"First\",\"Second\",\"Third\"), loc=(1.02,.4))\n",
    "plt.title(\"Survival Distribution by Class\")\n",
    "plt.grid(axis='y', linestyle = '--')\n",
    "ax2.set_xticklabels(['0','1'])"
   ]
  },
  {
   "cell_type": "markdown",
   "metadata": {},
   "source": [
    "0 represents passengers that did not survive and 1 represents survival"
   ]
  },
  {
   "cell_type": "markdown",
   "metadata": {},
   "source": [
    "## Dropping the qualitative columns we don't need"
   ]
  },
  {
   "cell_type": "code",
   "execution_count": 33,
   "metadata": {},
   "outputs": [
    {
     "data": {
      "text/html": [
       "<div>\n",
       "<style scoped>\n",
       "    .dataframe tbody tr th:only-of-type {\n",
       "        vertical-align: middle;\n",
       "    }\n",
       "\n",
       "    .dataframe tbody tr th {\n",
       "        vertical-align: top;\n",
       "    }\n",
       "\n",
       "    .dataframe thead th {\n",
       "        text-align: right;\n",
       "    }\n",
       "</style>\n",
       "<table border=\"1\" class=\"dataframe\">\n",
       "  <thead>\n",
       "    <tr style=\"text-align: right;\">\n",
       "      <th></th>\n",
       "      <th>Survived</th>\n",
       "      <th>Pclass</th>\n",
       "      <th>Sex</th>\n",
       "      <th>Age</th>\n",
       "      <th>SibSp</th>\n",
       "      <th>Parch</th>\n",
       "      <th>Fare</th>\n",
       "    </tr>\n",
       "  </thead>\n",
       "  <tbody>\n",
       "    <tr>\n",
       "      <th>0</th>\n",
       "      <td>0</td>\n",
       "      <td>3</td>\n",
       "      <td>male</td>\n",
       "      <td>22.0</td>\n",
       "      <td>1</td>\n",
       "      <td>0</td>\n",
       "      <td>7.2500</td>\n",
       "    </tr>\n",
       "    <tr>\n",
       "      <th>1</th>\n",
       "      <td>1</td>\n",
       "      <td>1</td>\n",
       "      <td>female</td>\n",
       "      <td>38.0</td>\n",
       "      <td>1</td>\n",
       "      <td>0</td>\n",
       "      <td>71.2833</td>\n",
       "    </tr>\n",
       "    <tr>\n",
       "      <th>2</th>\n",
       "      <td>1</td>\n",
       "      <td>3</td>\n",
       "      <td>female</td>\n",
       "      <td>26.0</td>\n",
       "      <td>0</td>\n",
       "      <td>0</td>\n",
       "      <td>7.9250</td>\n",
       "    </tr>\n",
       "    <tr>\n",
       "      <th>3</th>\n",
       "      <td>1</td>\n",
       "      <td>1</td>\n",
       "      <td>female</td>\n",
       "      <td>35.0</td>\n",
       "      <td>1</td>\n",
       "      <td>0</td>\n",
       "      <td>53.1000</td>\n",
       "    </tr>\n",
       "    <tr>\n",
       "      <th>4</th>\n",
       "      <td>0</td>\n",
       "      <td>3</td>\n",
       "      <td>male</td>\n",
       "      <td>35.0</td>\n",
       "      <td>0</td>\n",
       "      <td>0</td>\n",
       "      <td>8.0500</td>\n",
       "    </tr>\n",
       "    <tr>\n",
       "      <th>...</th>\n",
       "      <td>...</td>\n",
       "      <td>...</td>\n",
       "      <td>...</td>\n",
       "      <td>...</td>\n",
       "      <td>...</td>\n",
       "      <td>...</td>\n",
       "      <td>...</td>\n",
       "    </tr>\n",
       "    <tr>\n",
       "      <th>886</th>\n",
       "      <td>0</td>\n",
       "      <td>2</td>\n",
       "      <td>male</td>\n",
       "      <td>27.0</td>\n",
       "      <td>0</td>\n",
       "      <td>0</td>\n",
       "      <td>13.0000</td>\n",
       "    </tr>\n",
       "    <tr>\n",
       "      <th>887</th>\n",
       "      <td>1</td>\n",
       "      <td>1</td>\n",
       "      <td>female</td>\n",
       "      <td>19.0</td>\n",
       "      <td>0</td>\n",
       "      <td>0</td>\n",
       "      <td>30.0000</td>\n",
       "    </tr>\n",
       "    <tr>\n",
       "      <th>888</th>\n",
       "      <td>0</td>\n",
       "      <td>3</td>\n",
       "      <td>female</td>\n",
       "      <td>22.0</td>\n",
       "      <td>1</td>\n",
       "      <td>2</td>\n",
       "      <td>23.4500</td>\n",
       "    </tr>\n",
       "    <tr>\n",
       "      <th>889</th>\n",
       "      <td>1</td>\n",
       "      <td>1</td>\n",
       "      <td>male</td>\n",
       "      <td>26.0</td>\n",
       "      <td>0</td>\n",
       "      <td>0</td>\n",
       "      <td>30.0000</td>\n",
       "    </tr>\n",
       "    <tr>\n",
       "      <th>890</th>\n",
       "      <td>0</td>\n",
       "      <td>3</td>\n",
       "      <td>male</td>\n",
       "      <td>32.0</td>\n",
       "      <td>0</td>\n",
       "      <td>0</td>\n",
       "      <td>7.7500</td>\n",
       "    </tr>\n",
       "  </tbody>\n",
       "</table>\n",
       "<p>891 rows × 7 columns</p>\n",
       "</div>"
      ],
      "text/plain": [
       "     Survived  Pclass     Sex   Age  SibSp  Parch     Fare\n",
       "0           0       3    male  22.0      1      0   7.2500\n",
       "1           1       1  female  38.0      1      0  71.2833\n",
       "2           1       3  female  26.0      0      0   7.9250\n",
       "3           1       1  female  35.0      1      0  53.1000\n",
       "4           0       3    male  35.0      0      0   8.0500\n",
       "..        ...     ...     ...   ...    ...    ...      ...\n",
       "886         0       2    male  27.0      0      0  13.0000\n",
       "887         1       1  female  19.0      0      0  30.0000\n",
       "888         0       3  female  22.0      1      2  23.4500\n",
       "889         1       1    male  26.0      0      0  30.0000\n",
       "890         0       3    male  32.0      0      0   7.7500\n",
       "\n",
       "[891 rows x 7 columns]"
      ]
     },
     "execution_count": 33,
     "metadata": {},
     "output_type": "execute_result"
    }
   ],
   "source": [
    "# new variable 'titanic_train' is table without qualitative columns\n",
    "DropCols=[\"PassengerId\", \"Name\", \"Ticket\", \"Cabin\", \"Embarked\"]\n",
    "titanic_train=train_data.drop(DropCols, axis=1)\n",
    "titanic_train"
   ]
  },
  {
   "cell_type": "markdown",
   "metadata": {},
   "source": [
    "## Chaning the sex column to an integer"
   ]
  },
  {
   "cell_type": "code",
   "execution_count": 34,
   "metadata": {},
   "outputs": [],
   "source": [
    "from sklearn.preprocessing import StandardScaler, LabelEncoder"
   ]
  },
  {
   "cell_type": "code",
   "execution_count": 35,
   "metadata": {},
   "outputs": [
    {
     "data": {
      "text/html": [
       "<div>\n",
       "<style scoped>\n",
       "    .dataframe tbody tr th:only-of-type {\n",
       "        vertical-align: middle;\n",
       "    }\n",
       "\n",
       "    .dataframe tbody tr th {\n",
       "        vertical-align: top;\n",
       "    }\n",
       "\n",
       "    .dataframe thead th {\n",
       "        text-align: right;\n",
       "    }\n",
       "</style>\n",
       "<table border=\"1\" class=\"dataframe\">\n",
       "  <thead>\n",
       "    <tr style=\"text-align: right;\">\n",
       "      <th></th>\n",
       "      <th>Survived</th>\n",
       "      <th>Pclass</th>\n",
       "      <th>Sex</th>\n",
       "      <th>Age</th>\n",
       "      <th>SibSp</th>\n",
       "      <th>Parch</th>\n",
       "      <th>Fare</th>\n",
       "      <th>Gender</th>\n",
       "    </tr>\n",
       "  </thead>\n",
       "  <tbody>\n",
       "    <tr>\n",
       "      <th>0</th>\n",
       "      <td>0</td>\n",
       "      <td>3</td>\n",
       "      <td>male</td>\n",
       "      <td>22.0</td>\n",
       "      <td>1</td>\n",
       "      <td>0</td>\n",
       "      <td>7.2500</td>\n",
       "      <td>1</td>\n",
       "    </tr>\n",
       "    <tr>\n",
       "      <th>1</th>\n",
       "      <td>1</td>\n",
       "      <td>1</td>\n",
       "      <td>female</td>\n",
       "      <td>38.0</td>\n",
       "      <td>1</td>\n",
       "      <td>0</td>\n",
       "      <td>71.2833</td>\n",
       "      <td>0</td>\n",
       "    </tr>\n",
       "    <tr>\n",
       "      <th>2</th>\n",
       "      <td>1</td>\n",
       "      <td>3</td>\n",
       "      <td>female</td>\n",
       "      <td>26.0</td>\n",
       "      <td>0</td>\n",
       "      <td>0</td>\n",
       "      <td>7.9250</td>\n",
       "      <td>0</td>\n",
       "    </tr>\n",
       "    <tr>\n",
       "      <th>3</th>\n",
       "      <td>1</td>\n",
       "      <td>1</td>\n",
       "      <td>female</td>\n",
       "      <td>35.0</td>\n",
       "      <td>1</td>\n",
       "      <td>0</td>\n",
       "      <td>53.1000</td>\n",
       "      <td>0</td>\n",
       "    </tr>\n",
       "    <tr>\n",
       "      <th>4</th>\n",
       "      <td>0</td>\n",
       "      <td>3</td>\n",
       "      <td>male</td>\n",
       "      <td>35.0</td>\n",
       "      <td>0</td>\n",
       "      <td>0</td>\n",
       "      <td>8.0500</td>\n",
       "      <td>1</td>\n",
       "    </tr>\n",
       "  </tbody>\n",
       "</table>\n",
       "</div>"
      ],
      "text/plain": [
       "   Survived  Pclass     Sex   Age  SibSp  Parch     Fare  Gender\n",
       "0         0       3    male  22.0      1      0   7.2500       1\n",
       "1         1       1  female  38.0      1      0  71.2833       0\n",
       "2         1       3  female  26.0      0      0   7.9250       0\n",
       "3         1       1  female  35.0      1      0  53.1000       0\n",
       "4         0       3    male  35.0      0      0   8.0500       1"
      ]
     },
     "execution_count": 35,
     "metadata": {},
     "output_type": "execute_result"
    }
   ],
   "source": [
    "gender = LabelEncoder()\n",
    "titanic_train['Gender'] = gender.fit_transform(titanic_train['Sex'])\n",
    "titanic_train.head()"
   ]
  },
  {
   "cell_type": "code",
   "execution_count": 36,
   "metadata": {},
   "outputs": [],
   "source": [
    "titanic_train = titanic_train.drop(['Sex'], axis=1)"
   ]
  },
  {
   "cell_type": "code",
   "execution_count": 37,
   "metadata": {},
   "outputs": [
    {
     "data": {
      "text/html": [
       "<div>\n",
       "<style scoped>\n",
       "    .dataframe tbody tr th:only-of-type {\n",
       "        vertical-align: middle;\n",
       "    }\n",
       "\n",
       "    .dataframe tbody tr th {\n",
       "        vertical-align: top;\n",
       "    }\n",
       "\n",
       "    .dataframe thead th {\n",
       "        text-align: right;\n",
       "    }\n",
       "</style>\n",
       "<table border=\"1\" class=\"dataframe\">\n",
       "  <thead>\n",
       "    <tr style=\"text-align: right;\">\n",
       "      <th></th>\n",
       "      <th>Survived</th>\n",
       "      <th>Pclass</th>\n",
       "      <th>Age</th>\n",
       "      <th>SibSp</th>\n",
       "      <th>Parch</th>\n",
       "      <th>Fare</th>\n",
       "      <th>Gender</th>\n",
       "    </tr>\n",
       "  </thead>\n",
       "  <tbody>\n",
       "    <tr>\n",
       "      <th>0</th>\n",
       "      <td>0</td>\n",
       "      <td>3</td>\n",
       "      <td>22.0</td>\n",
       "      <td>1</td>\n",
       "      <td>0</td>\n",
       "      <td>7.2500</td>\n",
       "      <td>1</td>\n",
       "    </tr>\n",
       "    <tr>\n",
       "      <th>1</th>\n",
       "      <td>1</td>\n",
       "      <td>1</td>\n",
       "      <td>38.0</td>\n",
       "      <td>1</td>\n",
       "      <td>0</td>\n",
       "      <td>71.2833</td>\n",
       "      <td>0</td>\n",
       "    </tr>\n",
       "    <tr>\n",
       "      <th>2</th>\n",
       "      <td>1</td>\n",
       "      <td>3</td>\n",
       "      <td>26.0</td>\n",
       "      <td>0</td>\n",
       "      <td>0</td>\n",
       "      <td>7.9250</td>\n",
       "      <td>0</td>\n",
       "    </tr>\n",
       "    <tr>\n",
       "      <th>3</th>\n",
       "      <td>1</td>\n",
       "      <td>1</td>\n",
       "      <td>35.0</td>\n",
       "      <td>1</td>\n",
       "      <td>0</td>\n",
       "      <td>53.1000</td>\n",
       "      <td>0</td>\n",
       "    </tr>\n",
       "    <tr>\n",
       "      <th>4</th>\n",
       "      <td>0</td>\n",
       "      <td>3</td>\n",
       "      <td>35.0</td>\n",
       "      <td>0</td>\n",
       "      <td>0</td>\n",
       "      <td>8.0500</td>\n",
       "      <td>1</td>\n",
       "    </tr>\n",
       "  </tbody>\n",
       "</table>\n",
       "</div>"
      ],
      "text/plain": [
       "   Survived  Pclass   Age  SibSp  Parch     Fare  Gender\n",
       "0         0       3  22.0      1      0   7.2500       1\n",
       "1         1       1  38.0      1      0  71.2833       0\n",
       "2         1       3  26.0      0      0   7.9250       0\n",
       "3         1       1  35.0      1      0  53.1000       0\n",
       "4         0       3  35.0      0      0   8.0500       1"
      ]
     },
     "execution_count": 37,
     "metadata": {},
     "output_type": "execute_result"
    }
   ],
   "source": [
    "titanic_train.head()"
   ]
  },
  {
   "cell_type": "markdown",
   "metadata": {},
   "source": [
    "### Now the training data is ready, so we'll do the same for the test data"
   ]
  },
  {
   "cell_type": "code",
   "execution_count": 38,
   "metadata": {},
   "outputs": [
    {
     "data": {
      "text/html": [
       "<div>\n",
       "<style scoped>\n",
       "    .dataframe tbody tr th:only-of-type {\n",
       "        vertical-align: middle;\n",
       "    }\n",
       "\n",
       "    .dataframe tbody tr th {\n",
       "        vertical-align: top;\n",
       "    }\n",
       "\n",
       "    .dataframe thead th {\n",
       "        text-align: right;\n",
       "    }\n",
       "</style>\n",
       "<table border=\"1\" class=\"dataframe\">\n",
       "  <thead>\n",
       "    <tr style=\"text-align: right;\">\n",
       "      <th></th>\n",
       "      <th>Pclass</th>\n",
       "      <th>Sex</th>\n",
       "      <th>Age</th>\n",
       "      <th>SibSp</th>\n",
       "      <th>Parch</th>\n",
       "      <th>Fare</th>\n",
       "    </tr>\n",
       "  </thead>\n",
       "  <tbody>\n",
       "    <tr>\n",
       "      <th>0</th>\n",
       "      <td>3</td>\n",
       "      <td>male</td>\n",
       "      <td>22.0</td>\n",
       "      <td>0</td>\n",
       "      <td>0</td>\n",
       "      <td>7.8292</td>\n",
       "    </tr>\n",
       "    <tr>\n",
       "      <th>1</th>\n",
       "      <td>3</td>\n",
       "      <td>female</td>\n",
       "      <td>38.0</td>\n",
       "      <td>1</td>\n",
       "      <td>0</td>\n",
       "      <td>7.0000</td>\n",
       "    </tr>\n",
       "    <tr>\n",
       "      <th>2</th>\n",
       "      <td>2</td>\n",
       "      <td>male</td>\n",
       "      <td>26.0</td>\n",
       "      <td>0</td>\n",
       "      <td>0</td>\n",
       "      <td>9.6875</td>\n",
       "    </tr>\n",
       "    <tr>\n",
       "      <th>3</th>\n",
       "      <td>3</td>\n",
       "      <td>male</td>\n",
       "      <td>35.0</td>\n",
       "      <td>0</td>\n",
       "      <td>0</td>\n",
       "      <td>8.6625</td>\n",
       "    </tr>\n",
       "    <tr>\n",
       "      <th>4</th>\n",
       "      <td>3</td>\n",
       "      <td>female</td>\n",
       "      <td>35.0</td>\n",
       "      <td>1</td>\n",
       "      <td>1</td>\n",
       "      <td>12.2875</td>\n",
       "    </tr>\n",
       "    <tr>\n",
       "      <th>...</th>\n",
       "      <td>...</td>\n",
       "      <td>...</td>\n",
       "      <td>...</td>\n",
       "      <td>...</td>\n",
       "      <td>...</td>\n",
       "      <td>...</td>\n",
       "    </tr>\n",
       "    <tr>\n",
       "      <th>413</th>\n",
       "      <td>3</td>\n",
       "      <td>male</td>\n",
       "      <td>29.5</td>\n",
       "      <td>0</td>\n",
       "      <td>0</td>\n",
       "      <td>8.0500</td>\n",
       "    </tr>\n",
       "    <tr>\n",
       "      <th>414</th>\n",
       "      <td>1</td>\n",
       "      <td>female</td>\n",
       "      <td>44.0</td>\n",
       "      <td>0</td>\n",
       "      <td>0</td>\n",
       "      <td>108.9000</td>\n",
       "    </tr>\n",
       "    <tr>\n",
       "      <th>415</th>\n",
       "      <td>3</td>\n",
       "      <td>male</td>\n",
       "      <td>22.0</td>\n",
       "      <td>0</td>\n",
       "      <td>0</td>\n",
       "      <td>7.2500</td>\n",
       "    </tr>\n",
       "    <tr>\n",
       "      <th>416</th>\n",
       "      <td>3</td>\n",
       "      <td>male</td>\n",
       "      <td>34.0</td>\n",
       "      <td>0</td>\n",
       "      <td>0</td>\n",
       "      <td>8.0500</td>\n",
       "    </tr>\n",
       "    <tr>\n",
       "      <th>417</th>\n",
       "      <td>3</td>\n",
       "      <td>male</td>\n",
       "      <td>18.0</td>\n",
       "      <td>1</td>\n",
       "      <td>1</td>\n",
       "      <td>22.3583</td>\n",
       "    </tr>\n",
       "  </tbody>\n",
       "</table>\n",
       "<p>418 rows × 6 columns</p>\n",
       "</div>"
      ],
      "text/plain": [
       "     Pclass     Sex   Age  SibSp  Parch      Fare\n",
       "0         3    male  22.0      0      0    7.8292\n",
       "1         3  female  38.0      1      0    7.0000\n",
       "2         2    male  26.0      0      0    9.6875\n",
       "3         3    male  35.0      0      0    8.6625\n",
       "4         3  female  35.0      1      1   12.2875\n",
       "..      ...     ...   ...    ...    ...       ...\n",
       "413       3    male  29.5      0      0    8.0500\n",
       "414       1  female  44.0      0      0  108.9000\n",
       "415       3    male  22.0      0      0    7.2500\n",
       "416       3    male  34.0      0      0    8.0500\n",
       "417       3    male  18.0      1      1   22.3583\n",
       "\n",
       "[418 rows x 6 columns]"
      ]
     },
     "execution_count": 38,
     "metadata": {},
     "output_type": "execute_result"
    }
   ],
   "source": [
    "DropCols=[\"PassengerId\", \"Name\", \"Ticket\", \"Cabin\", \"Embarked\"]\n",
    "titanic_test=test_data.drop(DropCols, axis=1)\n",
    "titanic_test"
   ]
  },
  {
   "cell_type": "code",
   "execution_count": 39,
   "metadata": {},
   "outputs": [
    {
     "data": {
      "text/html": [
       "<div>\n",
       "<style scoped>\n",
       "    .dataframe tbody tr th:only-of-type {\n",
       "        vertical-align: middle;\n",
       "    }\n",
       "\n",
       "    .dataframe tbody tr th {\n",
       "        vertical-align: top;\n",
       "    }\n",
       "\n",
       "    .dataframe thead th {\n",
       "        text-align: right;\n",
       "    }\n",
       "</style>\n",
       "<table border=\"1\" class=\"dataframe\">\n",
       "  <thead>\n",
       "    <tr style=\"text-align: right;\">\n",
       "      <th></th>\n",
       "      <th>Pclass</th>\n",
       "      <th>Sex</th>\n",
       "      <th>Age</th>\n",
       "      <th>SibSp</th>\n",
       "      <th>Parch</th>\n",
       "      <th>Fare</th>\n",
       "      <th>Gender</th>\n",
       "    </tr>\n",
       "  </thead>\n",
       "  <tbody>\n",
       "    <tr>\n",
       "      <th>0</th>\n",
       "      <td>3</td>\n",
       "      <td>male</td>\n",
       "      <td>22.0</td>\n",
       "      <td>0</td>\n",
       "      <td>0</td>\n",
       "      <td>7.8292</td>\n",
       "      <td>1</td>\n",
       "    </tr>\n",
       "    <tr>\n",
       "      <th>1</th>\n",
       "      <td>3</td>\n",
       "      <td>female</td>\n",
       "      <td>38.0</td>\n",
       "      <td>1</td>\n",
       "      <td>0</td>\n",
       "      <td>7.0000</td>\n",
       "      <td>0</td>\n",
       "    </tr>\n",
       "    <tr>\n",
       "      <th>2</th>\n",
       "      <td>2</td>\n",
       "      <td>male</td>\n",
       "      <td>26.0</td>\n",
       "      <td>0</td>\n",
       "      <td>0</td>\n",
       "      <td>9.6875</td>\n",
       "      <td>1</td>\n",
       "    </tr>\n",
       "    <tr>\n",
       "      <th>3</th>\n",
       "      <td>3</td>\n",
       "      <td>male</td>\n",
       "      <td>35.0</td>\n",
       "      <td>0</td>\n",
       "      <td>0</td>\n",
       "      <td>8.6625</td>\n",
       "      <td>1</td>\n",
       "    </tr>\n",
       "    <tr>\n",
       "      <th>4</th>\n",
       "      <td>3</td>\n",
       "      <td>female</td>\n",
       "      <td>35.0</td>\n",
       "      <td>1</td>\n",
       "      <td>1</td>\n",
       "      <td>12.2875</td>\n",
       "      <td>0</td>\n",
       "    </tr>\n",
       "  </tbody>\n",
       "</table>\n",
       "</div>"
      ],
      "text/plain": [
       "   Pclass     Sex   Age  SibSp  Parch     Fare  Gender\n",
       "0       3    male  22.0      0      0   7.8292       1\n",
       "1       3  female  38.0      1      0   7.0000       0\n",
       "2       2    male  26.0      0      0   9.6875       1\n",
       "3       3    male  35.0      0      0   8.6625       1\n",
       "4       3  female  35.0      1      1  12.2875       0"
      ]
     },
     "execution_count": 39,
     "metadata": {},
     "output_type": "execute_result"
    }
   ],
   "source": [
    "gender = LabelEncoder()\n",
    "titanic_test['Gender'] = gender.fit_transform(titanic_test['Sex'])\n",
    "titanic_test.head()"
   ]
  },
  {
   "cell_type": "code",
   "execution_count": 40,
   "metadata": {},
   "outputs": [
    {
     "data": {
      "text/html": [
       "<div>\n",
       "<style scoped>\n",
       "    .dataframe tbody tr th:only-of-type {\n",
       "        vertical-align: middle;\n",
       "    }\n",
       "\n",
       "    .dataframe tbody tr th {\n",
       "        vertical-align: top;\n",
       "    }\n",
       "\n",
       "    .dataframe thead th {\n",
       "        text-align: right;\n",
       "    }\n",
       "</style>\n",
       "<table border=\"1\" class=\"dataframe\">\n",
       "  <thead>\n",
       "    <tr style=\"text-align: right;\">\n",
       "      <th></th>\n",
       "      <th>Pclass</th>\n",
       "      <th>Age</th>\n",
       "      <th>SibSp</th>\n",
       "      <th>Parch</th>\n",
       "      <th>Fare</th>\n",
       "      <th>Gender</th>\n",
       "    </tr>\n",
       "  </thead>\n",
       "  <tbody>\n",
       "    <tr>\n",
       "      <th>0</th>\n",
       "      <td>3</td>\n",
       "      <td>22.0</td>\n",
       "      <td>0</td>\n",
       "      <td>0</td>\n",
       "      <td>7.8292</td>\n",
       "      <td>1</td>\n",
       "    </tr>\n",
       "    <tr>\n",
       "      <th>1</th>\n",
       "      <td>3</td>\n",
       "      <td>38.0</td>\n",
       "      <td>1</td>\n",
       "      <td>0</td>\n",
       "      <td>7.0000</td>\n",
       "      <td>0</td>\n",
       "    </tr>\n",
       "    <tr>\n",
       "      <th>2</th>\n",
       "      <td>2</td>\n",
       "      <td>26.0</td>\n",
       "      <td>0</td>\n",
       "      <td>0</td>\n",
       "      <td>9.6875</td>\n",
       "      <td>1</td>\n",
       "    </tr>\n",
       "    <tr>\n",
       "      <th>3</th>\n",
       "      <td>3</td>\n",
       "      <td>35.0</td>\n",
       "      <td>0</td>\n",
       "      <td>0</td>\n",
       "      <td>8.6625</td>\n",
       "      <td>1</td>\n",
       "    </tr>\n",
       "    <tr>\n",
       "      <th>4</th>\n",
       "      <td>3</td>\n",
       "      <td>35.0</td>\n",
       "      <td>1</td>\n",
       "      <td>1</td>\n",
       "      <td>12.2875</td>\n",
       "      <td>0</td>\n",
       "    </tr>\n",
       "    <tr>\n",
       "      <th>...</th>\n",
       "      <td>...</td>\n",
       "      <td>...</td>\n",
       "      <td>...</td>\n",
       "      <td>...</td>\n",
       "      <td>...</td>\n",
       "      <td>...</td>\n",
       "    </tr>\n",
       "    <tr>\n",
       "      <th>413</th>\n",
       "      <td>3</td>\n",
       "      <td>29.5</td>\n",
       "      <td>0</td>\n",
       "      <td>0</td>\n",
       "      <td>8.0500</td>\n",
       "      <td>1</td>\n",
       "    </tr>\n",
       "    <tr>\n",
       "      <th>414</th>\n",
       "      <td>1</td>\n",
       "      <td>44.0</td>\n",
       "      <td>0</td>\n",
       "      <td>0</td>\n",
       "      <td>108.9000</td>\n",
       "      <td>0</td>\n",
       "    </tr>\n",
       "    <tr>\n",
       "      <th>415</th>\n",
       "      <td>3</td>\n",
       "      <td>22.0</td>\n",
       "      <td>0</td>\n",
       "      <td>0</td>\n",
       "      <td>7.2500</td>\n",
       "      <td>1</td>\n",
       "    </tr>\n",
       "    <tr>\n",
       "      <th>416</th>\n",
       "      <td>3</td>\n",
       "      <td>34.0</td>\n",
       "      <td>0</td>\n",
       "      <td>0</td>\n",
       "      <td>8.0500</td>\n",
       "      <td>1</td>\n",
       "    </tr>\n",
       "    <tr>\n",
       "      <th>417</th>\n",
       "      <td>3</td>\n",
       "      <td>18.0</td>\n",
       "      <td>1</td>\n",
       "      <td>1</td>\n",
       "      <td>22.3583</td>\n",
       "      <td>1</td>\n",
       "    </tr>\n",
       "  </tbody>\n",
       "</table>\n",
       "<p>418 rows × 6 columns</p>\n",
       "</div>"
      ],
      "text/plain": [
       "     Pclass   Age  SibSp  Parch      Fare  Gender\n",
       "0         3  22.0      0      0    7.8292       1\n",
       "1         3  38.0      1      0    7.0000       0\n",
       "2         2  26.0      0      0    9.6875       1\n",
       "3         3  35.0      0      0    8.6625       1\n",
       "4         3  35.0      1      1   12.2875       0\n",
       "..      ...   ...    ...    ...       ...     ...\n",
       "413       3  29.5      0      0    8.0500       1\n",
       "414       1  44.0      0      0  108.9000       0\n",
       "415       3  22.0      0      0    7.2500       1\n",
       "416       3  34.0      0      0    8.0500       1\n",
       "417       3  18.0      1      1   22.3583       1\n",
       "\n",
       "[418 rows x 6 columns]"
      ]
     },
     "execution_count": 40,
     "metadata": {},
     "output_type": "execute_result"
    }
   ],
   "source": [
    "titanic_test = titanic_test.drop(['Sex'], axis=1)"
   ]
  },
  {
   "cell_type": "code",
   "execution_count": 41,
   "metadata": {},
   "outputs": [
    {
     "data": {
      "text/html": [
       "<div>\n",
       "<style scoped>\n",
       "    .dataframe tbody tr th:only-of-type {\n",
       "        vertical-align: middle;\n",
       "    }\n",
       "\n",
       "    .dataframe tbody tr th {\n",
       "        vertical-align: top;\n",
       "    }\n",
       "\n",
       "    .dataframe thead th {\n",
       "        text-align: right;\n",
       "    }\n",
       "</style>\n",
       "<table border=\"1\" class=\"dataframe\">\n",
       "  <thead>\n",
       "    <tr style=\"text-align: right;\">\n",
       "      <th></th>\n",
       "      <th>Pclass</th>\n",
       "      <th>Age</th>\n",
       "      <th>SibSp</th>\n",
       "      <th>Parch</th>\n",
       "      <th>Fare</th>\n",
       "      <th>Gender</th>\n",
       "    </tr>\n",
       "  </thead>\n",
       "  <tbody>\n",
       "    <tr>\n",
       "      <th>0</th>\n",
       "      <td>3</td>\n",
       "      <td>22.0</td>\n",
       "      <td>0</td>\n",
       "      <td>0</td>\n",
       "      <td>7.8292</td>\n",
       "      <td>1</td>\n",
       "    </tr>\n",
       "    <tr>\n",
       "      <th>1</th>\n",
       "      <td>3</td>\n",
       "      <td>38.0</td>\n",
       "      <td>1</td>\n",
       "      <td>0</td>\n",
       "      <td>7.0000</td>\n",
       "      <td>0</td>\n",
       "    </tr>\n",
       "    <tr>\n",
       "      <th>2</th>\n",
       "      <td>2</td>\n",
       "      <td>26.0</td>\n",
       "      <td>0</td>\n",
       "      <td>0</td>\n",
       "      <td>9.6875</td>\n",
       "      <td>1</td>\n",
       "    </tr>\n",
       "    <tr>\n",
       "      <th>3</th>\n",
       "      <td>3</td>\n",
       "      <td>35.0</td>\n",
       "      <td>0</td>\n",
       "      <td>0</td>\n",
       "      <td>8.6625</td>\n",
       "      <td>1</td>\n",
       "    </tr>\n",
       "    <tr>\n",
       "      <th>4</th>\n",
       "      <td>3</td>\n",
       "      <td>35.0</td>\n",
       "      <td>1</td>\n",
       "      <td>1</td>\n",
       "      <td>12.2875</td>\n",
       "      <td>0</td>\n",
       "    </tr>\n",
       "    <tr>\n",
       "      <th>...</th>\n",
       "      <td>...</td>\n",
       "      <td>...</td>\n",
       "      <td>...</td>\n",
       "      <td>...</td>\n",
       "      <td>...</td>\n",
       "      <td>...</td>\n",
       "    </tr>\n",
       "    <tr>\n",
       "      <th>413</th>\n",
       "      <td>3</td>\n",
       "      <td>29.5</td>\n",
       "      <td>0</td>\n",
       "      <td>0</td>\n",
       "      <td>8.0500</td>\n",
       "      <td>1</td>\n",
       "    </tr>\n",
       "    <tr>\n",
       "      <th>414</th>\n",
       "      <td>1</td>\n",
       "      <td>44.0</td>\n",
       "      <td>0</td>\n",
       "      <td>0</td>\n",
       "      <td>108.9000</td>\n",
       "      <td>0</td>\n",
       "    </tr>\n",
       "    <tr>\n",
       "      <th>415</th>\n",
       "      <td>3</td>\n",
       "      <td>22.0</td>\n",
       "      <td>0</td>\n",
       "      <td>0</td>\n",
       "      <td>7.2500</td>\n",
       "      <td>1</td>\n",
       "    </tr>\n",
       "    <tr>\n",
       "      <th>416</th>\n",
       "      <td>3</td>\n",
       "      <td>34.0</td>\n",
       "      <td>0</td>\n",
       "      <td>0</td>\n",
       "      <td>8.0500</td>\n",
       "      <td>1</td>\n",
       "    </tr>\n",
       "    <tr>\n",
       "      <th>417</th>\n",
       "      <td>3</td>\n",
       "      <td>18.0</td>\n",
       "      <td>1</td>\n",
       "      <td>1</td>\n",
       "      <td>22.3583</td>\n",
       "      <td>1</td>\n",
       "    </tr>\n",
       "  </tbody>\n",
       "</table>\n",
       "<p>418 rows × 6 columns</p>\n",
       "</div>"
      ],
      "text/plain": [
       "     Pclass   Age  SibSp  Parch      Fare  Gender\n",
       "0         3  22.0      0      0    7.8292       1\n",
       "1         3  38.0      1      0    7.0000       0\n",
       "2         2  26.0      0      0    9.6875       1\n",
       "3         3  35.0      0      0    8.6625       1\n",
       "4         3  35.0      1      1   12.2875       0\n",
       "..      ...   ...    ...    ...       ...     ...\n",
       "413       3  29.5      0      0    8.0500       1\n",
       "414       1  44.0      0      0  108.9000       0\n",
       "415       3  22.0      0      0    7.2500       1\n",
       "416       3  34.0      0      0    8.0500       1\n",
       "417       3  18.0      1      1   22.3583       1\n",
       "\n",
       "[418 rows x 6 columns]"
      ]
     },
     "execution_count": 41,
     "metadata": {},
     "output_type": "execute_result"
    }
   ],
   "source": [
    "titanic_test"
   ]
  },
  {
   "cell_type": "code",
   "execution_count": 42,
   "metadata": {},
   "outputs": [],
   "source": [
    "from sklearn.linear_model import LogisticRegression"
   ]
  },
  {
   "cell_type": "code",
   "execution_count": 43,
   "metadata": {},
   "outputs": [
    {
     "data": {
      "text/html": [
       "<div>\n",
       "<style scoped>\n",
       "    .dataframe tbody tr th:only-of-type {\n",
       "        vertical-align: middle;\n",
       "    }\n",
       "\n",
       "    .dataframe tbody tr th {\n",
       "        vertical-align: top;\n",
       "    }\n",
       "\n",
       "    .dataframe thead th {\n",
       "        text-align: right;\n",
       "    }\n",
       "</style>\n",
       "<table border=\"1\" class=\"dataframe\">\n",
       "  <thead>\n",
       "    <tr style=\"text-align: right;\">\n",
       "      <th></th>\n",
       "      <th>Pclass</th>\n",
       "      <th>Age</th>\n",
       "      <th>SibSp</th>\n",
       "      <th>Parch</th>\n",
       "      <th>Fare</th>\n",
       "      <th>Gender</th>\n",
       "    </tr>\n",
       "  </thead>\n",
       "  <tbody>\n",
       "    <tr>\n",
       "      <th>0</th>\n",
       "      <td>3</td>\n",
       "      <td>22.0</td>\n",
       "      <td>1</td>\n",
       "      <td>0</td>\n",
       "      <td>7.2500</td>\n",
       "      <td>1</td>\n",
       "    </tr>\n",
       "    <tr>\n",
       "      <th>1</th>\n",
       "      <td>1</td>\n",
       "      <td>38.0</td>\n",
       "      <td>1</td>\n",
       "      <td>0</td>\n",
       "      <td>71.2833</td>\n",
       "      <td>0</td>\n",
       "    </tr>\n",
       "    <tr>\n",
       "      <th>2</th>\n",
       "      <td>3</td>\n",
       "      <td>26.0</td>\n",
       "      <td>0</td>\n",
       "      <td>0</td>\n",
       "      <td>7.9250</td>\n",
       "      <td>0</td>\n",
       "    </tr>\n",
       "    <tr>\n",
       "      <th>3</th>\n",
       "      <td>1</td>\n",
       "      <td>35.0</td>\n",
       "      <td>1</td>\n",
       "      <td>0</td>\n",
       "      <td>53.1000</td>\n",
       "      <td>0</td>\n",
       "    </tr>\n",
       "    <tr>\n",
       "      <th>4</th>\n",
       "      <td>3</td>\n",
       "      <td>35.0</td>\n",
       "      <td>0</td>\n",
       "      <td>0</td>\n",
       "      <td>8.0500</td>\n",
       "      <td>1</td>\n",
       "    </tr>\n",
       "    <tr>\n",
       "      <th>5</th>\n",
       "      <td>3</td>\n",
       "      <td>25.0</td>\n",
       "      <td>0</td>\n",
       "      <td>0</td>\n",
       "      <td>8.4583</td>\n",
       "      <td>1</td>\n",
       "    </tr>\n",
       "    <tr>\n",
       "      <th>6</th>\n",
       "      <td>1</td>\n",
       "      <td>54.0</td>\n",
       "      <td>0</td>\n",
       "      <td>0</td>\n",
       "      <td>51.8625</td>\n",
       "      <td>1</td>\n",
       "    </tr>\n",
       "    <tr>\n",
       "      <th>7</th>\n",
       "      <td>3</td>\n",
       "      <td>2.0</td>\n",
       "      <td>3</td>\n",
       "      <td>1</td>\n",
       "      <td>21.0750</td>\n",
       "      <td>1</td>\n",
       "    </tr>\n",
       "    <tr>\n",
       "      <th>8</th>\n",
       "      <td>3</td>\n",
       "      <td>27.0</td>\n",
       "      <td>0</td>\n",
       "      <td>2</td>\n",
       "      <td>11.1333</td>\n",
       "      <td>0</td>\n",
       "    </tr>\n",
       "    <tr>\n",
       "      <th>9</th>\n",
       "      <td>2</td>\n",
       "      <td>14.0</td>\n",
       "      <td>1</td>\n",
       "      <td>0</td>\n",
       "      <td>30.0708</td>\n",
       "      <td>0</td>\n",
       "    </tr>\n",
       "  </tbody>\n",
       "</table>\n",
       "</div>"
      ],
      "text/plain": [
       "   Pclass   Age  SibSp  Parch     Fare  Gender\n",
       "0       3  22.0      1      0   7.2500       1\n",
       "1       1  38.0      1      0  71.2833       0\n",
       "2       3  26.0      0      0   7.9250       0\n",
       "3       1  35.0      1      0  53.1000       0\n",
       "4       3  35.0      0      0   8.0500       1\n",
       "5       3  25.0      0      0   8.4583       1\n",
       "6       1  54.0      0      0  51.8625       1\n",
       "7       3   2.0      3      1  21.0750       1\n",
       "8       3  27.0      0      2  11.1333       0\n",
       "9       2  14.0      1      0  30.0708       0"
      ]
     },
     "execution_count": 43,
     "metadata": {},
     "output_type": "execute_result"
    }
   ],
   "source": [
    "X_train = titanic_train.drop(['Survived'], axis=1)\n",
    "Y_train = titanic_train[\"Survived\"]\n",
    "X_test = titanic_test.copy()\n",
    "\n",
    "X_train.head(10)"
   ]
  },
  {
   "cell_type": "code",

   "metadata": {},
   "outputs": [
    {
     "data": {
      "text/plain": [
       "0.8080808080808081"
      ]
     },
     "execution_count": 44,
     "metadata": {},
     "output_type": "execute_result"
    }
   ],
   "source": [
    "model = LogisticRegression()\n",
    "\n",
    "model.fit(X_train, Y_train)\n",
    "\n",
    "Y_predict = model.predict(X_test)\n",
    "\n",
    "model.score(X_train, Y_train)"
   ]
  },
  {
   "cell_type": "code",
   "execution_count": null,
   "metadata": {},
   "outputs": [],
   "source": [
    "# we want classification - decision trees"
   ]
  }
 ],
 "metadata": {
  "kernelspec": {
   "display_name": "Python 3",
   "language": "python",
   "name": "python3"
  },
  "language_info": {
   "codemirror_mode": {
    "name": "ipython",
    "version": 3
   },
   "file_extension": ".py",
   "mimetype": "text/x-python",
   "name": "python",
   "nbconvert_exporter": "python",
   "pygments_lexer": "ipython3",
   "version": "3.8.5"
  }
 },
 "nbformat": 4,
 "nbformat_minor": 5
}
